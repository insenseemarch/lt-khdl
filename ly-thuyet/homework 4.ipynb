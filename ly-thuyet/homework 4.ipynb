{
 "cells": [
  {
   "cell_type": "markdown",
   "metadata": {},
   "source": [
    "### NumPy Exercises: Student Performance Dataset"
   ]
  },
  {
   "cell_type": "markdown",
   "metadata": {},
   "source": [
    "#### 📋 Dataset Information\n",
    "\n",
    "**Dataset**: Students Performance in Exams  \n",
    "**Source**: https://www.kaggle.com/datasets/spscientist/students-performance-in-exams  \n",
    "**Size**: 1,000 students  \n",
    "\n",
    "**Columns**:\n",
    "- `gender`: Student's gender (male/female)\n",
    "- `race/ethnicity`: Student's ethnic group (group A, B, C, D, E)\n",
    "- `parental level of education`: Parent's education level\n",
    "- `lunch`: Type of lunch (standard/free or reduced)\n",
    "- `test preparation course`: Completed test prep course (completed/none)\n",
    "- `math score`: Score in math (0-100)\n",
    "- `reading score`: Score in reading (0-100)\n",
    "- `writing score`: Score in writing (0-100)"
   ]
  },
  {
   "cell_type": "code",
   "execution_count": 4,
   "metadata": {},
   "outputs": [
    {
     "name": "stdout",
     "output_type": "stream",
     "text": [
      "Dataset loaded successfully!\n",
      "Number of students: 1000\n",
      "Scores array shape: (1000, 3)\n"
     ]
    }
   ],
   "source": [
    "## NO NEED CODE HERE\n",
    "import numpy as np\n",
    "\n",
    "# Load the dataset\n",
    "data = np.genfromtxt('Data/StudentsPerformance.csv', delimiter=',', \n",
    "                     dtype=None, encoding='utf-8', names=True)\n",
    "\n",
    "# For easier manipulation, separate numeric scores into a 2D array\n",
    "math_scores = data['math_score']\n",
    "reading_scores = data['reading_score']\n",
    "writing_scores = data['writing_score']\n",
    "\n",
    "# Create a 2D array with all scores\n",
    "scores = np.column_stack([math_scores, reading_scores, writing_scores])\n",
    "\n",
    "print(\"Dataset loaded successfully!\")\n",
    "print(f\"Number of students: {len(data)}\")\n",
    "print(f\"Scores array shape: {scores.shape}\")"
   ]
  },
  {
   "cell_type": "markdown",
   "metadata": {},
   "source": [
    "### Task 1: Explore the Dataset Structure\n",
    "**Instructions**:\n",
    "1. Print the shape of the `scores` array\n",
    "2. Print the data type of the `scores` array\n",
    "3. Calculate the total number of elements in the `scores` array\n",
    "4. Print the first 5 students' scores\n",
    "5. Print the last 3 students' scores"
   ]
  },
  {
   "cell_type": "code",
   "execution_count": 7,
   "metadata": {},
   "outputs": [
    {
     "name": "stdout",
     "output_type": "stream",
     "text": [
      "Shape: (1000, 3)\n",
      "Data type: float64\n",
      "Total elements: 3000\n",
      "First 5 students:\n",
      " [[72. 72. 74.]\n",
      " [69. 90. 88.]\n",
      " [90. 95. 93.]\n",
      " [47. 57. 44.]\n",
      " [76. 78. 75.]]\n",
      "Last 3 students:\n",
      " [[59. 71. 65.]\n",
      " [68. 78. 77.]\n",
      " [77. 86. 86.]]\n"
     ]
    }
   ],
   "source": [
    "# TODO: Your code here\n",
    "\n",
    "# Ép kiểu điểm thành float.\n",
    "math_scores = np.char.strip(math_scores.astype(str), '\"').astype(float)\n",
    "reading_scores = np.char.strip(reading_scores.astype(str), '\"').astype(float)\n",
    "writing_scores = np.char.strip(writing_scores.astype(str), '\"').astype(float)\n",
    "\n",
    "scores = np.column_stack([math_scores, reading_scores, writing_scores])\n",
    "\n",
    "# 1. Shape\n",
    "print(\"Shape:\", scores.shape)\n",
    "\n",
    "# 2. Data type\n",
    "print(\"Data type:\", scores.dtype)\n",
    "\n",
    "# 3. Total elements\n",
    "print(\"Total elements:\", scores.size)\n",
    "\n",
    "# 4. First 5 students\n",
    "print(\"First 5 students:\\n\", scores[:5])\n",
    "\n",
    "# 5. Last 3 students\n",
    "print(\"Last 3 students:\\n\", scores[-3:])"
   ]
  },
  {
   "cell_type": "markdown",
   "metadata": {},
   "source": [
    "### Task 2: Access Specific Student Data\n",
    "**Instructions**:\n",
    "1. Get the scores of the 10th student (remember: Python uses 0-indexing)\n",
    "2. Get the math score of the 50th student\n",
    "3. Get the writing score of the 100th student\n",
    "4. Get all three scores for student at index 25\n",
    "5. Create a new array containing scores of students at indices 0, 5, and 10"
   ]
  },
  {
   "cell_type": "code",
   "execution_count": 8,
   "metadata": {},
   "outputs": [
    {
     "name": "stdout",
     "output_type": "stream",
     "text": [
      "Student 10 scores: [38. 60. 50.]\n",
      "Math score of student 50: 82.0\n",
      "Writing score of student 100: 62.0\n",
      "Student 25 scores: [74. 71. 80.]\n",
      "Selected students:\n",
      " [[72. 72. 74.]\n",
      " [71. 83. 78.]\n",
      " [58. 54. 52.]]\n"
     ]
    }
   ],
   "source": [
    "# TODO: Your code here\n",
    "# 1. 10th student (all scores)\n",
    "student_10 = scores[9,:]\n",
    "print(\"Student 10 scores:\", student_10)\n",
    "\n",
    "# 2. Math score of 50th student\n",
    "math_50 = math_scores[49]\n",
    "print(\"Math score of student 50:\", math_50)\n",
    "\n",
    "# 3. Writing score of 100th student\n",
    "writing_100 = writing_scores[99]\n",
    "print(\"Writing score of student 100:\", writing_100)\n",
    "\n",
    "# 4. All scores for student 25\n",
    "student_25 = scores[24, :]\n",
    "print(\"Student 25 scores:\", student_25)\n",
    "\n",
    "# 5. Scores for students 0, 5, and 10\n",
    "selected_students = np.array(scores[[0,5,10], :])\n",
    "print(\"Selected students:\\n\", selected_students)"
   ]
  },
  {
   "cell_type": "markdown",
   "metadata": {},
   "source": [
    "### Task 3: Filter Students by Performance\n",
    "**Instructions**:\n",
    "1. Find all students who scored above 80 in math\n",
    "2. Find all students who scored below 50 in reading\n",
    "3. Find all students who scored exactly 75 in writing\n",
    "4. Count how many students scored above 90 in math\n",
    "5. Find students who scored between 60 and 70 (inclusive) in reading"
   ]
  },
  {
   "cell_type": "code",
   "execution_count": 9,
   "metadata": {},
   "outputs": [
    {
     "name": "stdout",
     "output_type": "stream",
     "text": [
      "50\n"
     ]
    }
   ],
   "source": [
    "# TODO: Your code here\n",
    "# 1. Students with math > 80\n",
    "high_math_score = data[math_scores > 80]\n",
    "    \n",
    "# 2. Students with reading < 50\n",
    "low_reading_score = data[reading_scores < 50]\n",
    "\n",
    "# 3. Students with writing exactly 75\n",
    "_75_writing_score = data[writing_scores == 75]\n",
    "\n",
    "# 4. Count students with math > 90\n",
    "_numberOf_90_math_score = len(data[math_scores > 90])\n",
    "print(_numberOf_90_math_score)\n",
    "\n",
    "# 5. Students with reading between 60-70\n",
    "_6070_reading_score = data[(reading_scores > 60) & (reading_scores <= 70)]"
   ]
  },
  {
   "cell_type": "markdown",
   "metadata": {},
   "source": [
    "### Task 4: Compare Two Subjects\n",
    "**Instructions**:\n",
    "1. Find students who scored higher in math than in reading\n",
    "2. Find students who scored the same in reading and writing\n",
    "3. Count how many students scored higher in writing than in math\n",
    "4. Find the student(s) with the largest difference between math and writing scores\n",
    "5. Calculate the average difference between reading and writing scores"
   ]
  },
  {
   "cell_type": "code",
   "execution_count": 12,
   "metadata": {},
   "outputs": [
    {
     "name": "stdout",
     "output_type": "stream",
     "text": [
      "Students who have the largest difference between math and writing\n",
      "('\"female\"', '\"group C\"', '\"bachelor\\'s degree\"', '\"free/reduced\"', '\"completed\"', '\"51\"', '\"72\"', '\"79\"')\n",
      "\n",
      "3.739\n"
     ]
    }
   ],
   "source": [
    "# TODO: Your code here\n",
    "# 1. Students with math > reading\n",
    "math_isGreaterthan_reading = data[math_scores > reading_scores]\n",
    "\n",
    "# 2. Students with reading == writing\n",
    "reading_isEqualto_writing = data[reading_scores == writing_scores]\n",
    "\n",
    "# 3. Count students with writing > math\n",
    "numberOf_math_isGreaterthan_reading = len(data[writing_scores > math_scores])\n",
    "\n",
    "# 4. Largest difference between math and writing\n",
    "largestDiff_student = []\n",
    "largestDiff_score = -999\n",
    "for i, student in enumerate(data):\n",
    "    diff = abs(math_scores[i] - writing_scores[i])\n",
    "    if diff > largestDiff_score:\n",
    "        largestDiff_score = diff\n",
    "        largestDiff_student = [student]\n",
    "    elif diff == largestDiff_score:\n",
    "        largestDiff_student.append(student)\n",
    "print('Students who have the largest difference between math and writing:')\n",
    "for sd in largestDiff_student:\n",
    "    print(sd)\n",
    "    \n",
    "# 5. Average difference between reading and writing\n",
    "diff_reading_writing = np.array(abs(reading_scores - writing_scores))\n",
    "avg_diff = np.mean(diff_reading_writing)\n",
    "print()\n",
    "print(avg_diff)"
   ]
  },
  {
   "cell_type": "markdown",
   "metadata": {},
   "source": [
    "### Task 5: Score Distribution Analysis \n",
    "Analyze how scores are distributed across different ranges without using histograms or binning functions"
   ]
  },
  {
   "cell_type": "markdown",
   "metadata": {},
   "source": [
    "**Instructions**:\n",
    "\n",
    "1. **Create score bins**: Define 10 ranges for scores:\n",
    "   - Bin 0: 0-9 points\n",
    "   - Bin 1: 10-19 points\n",
    "   - Bin 2: 20-29 points\n",
    "   - ... and so on ...\n",
    "   - Bin 9: 90-100 points\n",
    "\n",
    "2. **Count students in each bin for math scores**: Use a loop to go through all math scores and count how many fall into each bin.\n",
    "\n",
    "3. **Display the distribution**: Print the count for each bin in a readable format.\n",
    "\n",
    "4. **Find the most common range**: Determine which bin has the most students (the mode range).\n",
    "\n",
    "5. **Calculate cumulative distribution**: For each bin, calculate how many students scored at or below that range.\n",
    "\n",
    "6. **Repeat for reading and writing**: Apply the same analysis to the other two subjects.\n",
    "\n",
    "7. **Compare distributions**: Identify which subject has the most students in the highest bin (90-100)."
   ]
  },
  {
   "cell_type": "code",
   "execution_count": 13,
   "metadata": {},
   "outputs": [
    {
     "name": "stdout",
     "output_type": "stream",
     "text": [
      "-----MATH------\n",
      "Bin 0 (0 - 9): 2\n",
      "Bin 1 (10 - 19): 2\n",
      "Bin 2 (20 - 29): 10\n",
      "Bin 3 (30 - 39): 26\n",
      "Bin 4 (40 - 49): 95\n",
      "Bin 5 (50 - 59): 188\n",
      "Bin 6 (60 - 69): 268\n",
      "Bin 7 (70 - 79): 216\n",
      "Bin 8 (80 - 89): 135\n",
      "Bin 9 (90 - 100): 58\n",
      "------------\n",
      "Most common range: Bin 6 with 268 students\n",
      "------------\n",
      "Math cumulative: [2, 4, 14, 40, 135, 323, 591, 807, 942, 1000]\n",
      "\n",
      "-----READING------\n",
      "Bin 0 (0 - 9): 0\n",
      "Bin 1 (10 - 19): 1\n",
      "Bin 2 (20 - 29): 7\n",
      "Bin 3 (30 - 39): 18\n",
      "Bin 4 (40 - 49): 64\n",
      "Bin 5 (50 - 59): 164\n",
      "Bin 6 (60 - 69): 233\n",
      "Bin 7 (70 - 79): 264\n",
      "Bin 8 (80 - 89): 170\n",
      "Bin 9 (90 - 100): 79\n",
      "------------\n",
      "Most common range: Bin 7 with 264 students\n",
      "------------\n",
      "Reading cumulative: [0, 1, 8, 26, 90, 254, 487, 751, 921, 1000]\n",
      "\n",
      "-----WRITING------\n",
      "Bin 0 (0 - 9): 0\n",
      "Bin 1 (10 - 19): 3\n",
      "Bin 2 (20 - 29): 6\n",
      "Bin 3 (30 - 39): 23\n",
      "Bin 4 (40 - 49): 82\n",
      "Bin 5 (50 - 59): 167\n",
      "Bin 6 (60 - 69): 230\n",
      "Bin 7 (70 - 79): 254\n",
      "Bin 8 (80 - 89): 157\n",
      "Bin 9 (90 - 100): 78\n",
      "------------\n",
      "Most common range: Bin 7 with 254 students\n",
      "------------\n",
      "Writing cumulative: [0, 1, 8, 26, 90, 254, 487, 751, 921, 1000]\n",
      "\n",
      "MOST STUDENTS IN 90-100: Reading (79 students)\n"
     ]
    }
   ],
   "source": [
    "#TODO: your code here\n",
    "\n",
    "# 1. Create an array to store counts for 10 bins\n",
    "print('-----MATH------')\n",
    "math_bins = [0] * 10\n",
    "\n",
    "# 2. Count students in each bin\n",
    "for s in math_scores:\n",
    "    index = min(int(s//10),9)\n",
    "    math_bins[index] += 1\n",
    "    \n",
    "# 3. Display the distribution\n",
    "for i, count in enumerate(math_bins):\n",
    "    low, high = i*10, i*10+9\n",
    "    if i ==9:\n",
    "        high = 100\n",
    "    print(f'Bin {i} ({low} - {high}): {count}')\n",
    "    \n",
    "# 4. Find the most common range\n",
    "max_bin = max(range(10), key=lambda i:math_bins[i])\n",
    "print('------------')\n",
    "print(f'Most common range: Bin {max_bin} with {math_bins[max_bin]} students')\n",
    "\n",
    "# 5. Calculate cumulative distribution\n",
    "math_cum = np.cumsum(math_bins)\n",
    "print('------------')\n",
    "print(f'Math cumulative: {math_cum.tolist()}')\n",
    "\n",
    "# 6. Repeat for reading and writing\n",
    "print()\n",
    "print('-----READING------')\n",
    "reading_bins = [0] * 10\n",
    "for s in reading_scores:\n",
    "    index = min(int(s//10),9)\n",
    "    reading_bins[index] += 1\n",
    "for i, count in enumerate(reading_bins):\n",
    "    low, high = i*10, i*10+9\n",
    "    if i ==9:\n",
    "        high = 100\n",
    "    print(f'Bin {i} ({low} - {high}): {count}')\n",
    "max_bin = max(range(10), key=lambda i:reading_bins[i])\n",
    "print('------------')\n",
    "print(f'Most common range: Bin {max_bin} with {reading_bins[max_bin]} students')\n",
    "reading_cum = np.cumsum(reading_bins)\n",
    "print('------------')\n",
    "print(f'Reading cumulative: {reading_cum.tolist()}')\n",
    "\n",
    "print()\n",
    "print('-----WRITING------')\n",
    "writing_bins = [0] * 10\n",
    "for s in writing_scores:\n",
    "    index = min(int(s//10),9)\n",
    "    writing_bins[index] += 1\n",
    "for i, count in enumerate(writing_bins):\n",
    "    low, high = i*10, i*10+9\n",
    "    if i ==9:\n",
    "        high = 100\n",
    "    print(f'Bin {i} ({low} - {high}): {count}')\n",
    "max_bin = max(range(10), key=lambda i:writing_bins[i])\n",
    "print('------------')\n",
    "print(f'Most common range: Bin {max_bin} with {writing_bins[max_bin]} students')\n",
    "writing_cum = np.cumsum(reading_bins)\n",
    "print('------------')\n",
    "print(f'Writing cumulative: {writing_cum.tolist()}')\n",
    "\n",
    "# 7. Compare distributions \n",
    "best_subject = max([('Math', math_bins[9]), ('Reading', reading_bins[9]), ('Writing', writing_bins[9])],\n",
    "                   key=lambda x: x[1])\n",
    "print()\n",
    "print(f'MOST STUDENTS IN 90-100: {best_subject[0]} ({best_subject[1]} students)')"
   ]
  },
  {
   "cell_type": "markdown",
   "metadata": {},
   "source": [
    "### Task 6: Student Consistency Analysis\n",
    "Identify students who have very consistent scores across all three subjects without using variance or standard deviation functions."
   ]
  },
  {
   "cell_type": "markdown",
   "metadata": {},
   "source": [
    "**Instructions**:\n",
    "\n",
    "1. **Calculate score range for each student**: For each student, find the difference between their highest and lowest score among the three subjects.\n",
    "\n",
    "2. **Define consistency threshold**: Students are \"consistent\" if their range is 5 points or less (all three scores within 5 points of each other).\n",
    "\n",
    "3. **Count consistent students**: Count how many students meet the consistency criteria.\n",
    "\n",
    "4. **Find the most consistent student**: Identify the student with the smallest range (most consistent).\n",
    "\n",
    "5. **Find the least consistent student**: Identify the student with the largest range (most variable).\n",
    "\n",
    "6. **Create consistency categories**:\n",
    "   - Very Consistent: range ≤ 5\n",
    "   - Consistent: range 6-10\n",
    "   - Moderate: range 11-20\n",
    "   - Variable: range 21-30\n",
    "   - Highly Variable: range > 30\n",
    "\n",
    "7. **Count students in each category**: Display the distribution.\n",
    "\n",
    "8. **Analyze patterns**: Among consistent students, which subject combinations tend to be similar?"
   ]
  },
  {
   "cell_type": "code",
   "execution_count": 30,
   "metadata": {
    "scrolled": true
   },
   "outputs": [
    {
     "name": "stdout",
     "output_type": "stream",
     "text": [
      "Count consistent students: 231 students.\n",
      "\n",
      "Student with index 157: scores = [60.0, 60.0, 60.0]\n",
      "Student with index 458: scores = [100.0, 100.0, 100.0]\n",
      "Student with index 796: scores = [70.0, 70.0, 70.0]\n",
      "Student with index 916: scores = [100.0, 100.0, 100.0]\n",
      "Student with index 962: scores = [100.0, 100.0, 100.0]\n",
      "\n",
      "Student with index 371: scores = [45.0, 73.0, 70.0]\n",
      "Student with index 414: scores = [51.0, 72.0, 79.0]\n",
      "\n",
      "Very Consistent (≤5): 231 students\n",
      "Consistent (6–10): 365 students\n",
      "Moderate (11–20): 372 students\n",
      "Variable (21–30): 32 students\n",
      "Highly Variable (>30): 0 students\n",
      "\n",
      "Among consistent students, closest subject pairs:\n"
     ]
    }
   ],
   "source": [
    "# TODO: Your code here\n",
    "# 1. Calculate score range for each student\n",
    "max_perStudent = scores.max(axis =1)\n",
    "min_perStudent = scores.min(axis =1)\n",
    "score_range = max_perStudent - min_perStudent\n",
    "\n",
    "# 2 & 3. Count consistent students \n",
    "mask = score_range <= 5\n",
    "number_Consistent = int(mask.sum())\n",
    "print(f'Count consistent students: {number_Consistent} students.')\n",
    "\n",
    "# 4. Find most consistent student\n",
    "min_score_range = score_range.min()\n",
    "index = np.where(score_range == min_score_range)[0]\n",
    "print()\n",
    "for i in index:\n",
    "    print(f'Student with index {i}: scores = {scores[i].tolist()}')\n",
    "    \n",
    "# 5. Find least consistent student\n",
    "max_score_range = score_range.max()\n",
    "index = np.where(score_range == max_score_range)[0]\n",
    "print()\n",
    "for i in index:\n",
    "    print(f'Student with index {i}: scores = {scores[i].tolist()}')\n",
    "    \n",
    "# 6. Create consistency categories\n",
    "cats = {\n",
    "    \"Very Consistent (≤5)\":        (score_range <= 5),\n",
    "    \"Consistent (6–10)\":          ((score_range >= 6)  & (score_range <= 10)),\n",
    "    \"Moderate (11–20)\":           ((score_range >= 11) & (score_range <= 20)),\n",
    "    \"Variable (21–30)\":           ((score_range >= 21) & (score_range <= 30)),\n",
    "    \"Highly Variable (>30)\":       (score_range > 30),\n",
    "}\n",
    "\n",
    "# 7. Count students in each category\n",
    "print()\n",
    "for name, mask in cats.items():\n",
    "    print(f'{name}: {int(mask.sum())} students')\n",
    "    \n",
    "# 8. Analyze patterns among consistent students\n",
    "mr_diff = np.abs(scores[:, 0] - scores[:, 1])  # Math vs Reading\n",
    "mw_diff = np.abs(scores[:, 0] - scores[:, 2])  # Math vs Writing\n",
    "rw_diff = np.abs(scores[:, 1] - scores[:, 2])  # Reading vs Writing\n",
    "\n",
    "diffs_all = np.stack([mr_diff, mw_diff, rw_diff], axis =1)\n",
    "\n",
    "diffs_consistent = diffs_all[mask]\n",
    "\n",
    "closest_pair_index = np.argmin(diffs_consistent, axis=1)\n",
    "pair_names = np.array([\"Math-Reading\", \"Math-Writing\", \"Reading-Writing\"])\n",
    "\n",
    "unique, counts = np.unique(closest_pair_index, return_counts=True)\n",
    "\n",
    "print()\n",
    "print(\"Among consistent students, closest subject pairs:\")\n",
    "for u, c in zip(unique, counts):\n",
    "    print(f'{pair_names[u]}: {c}')\n"
   ]
  }
 ],
 "metadata": {
  "kernelspec": {
   "display_name": "Python 3 (ipykernel)",
   "language": "python",
   "name": "python3"
  },
  "language_info": {
   "codemirror_mode": {
    "name": "ipython",
    "version": 3
   },
   "file_extension": ".py",
   "mimetype": "text/x-python",
   "name": "python",
   "nbconvert_exporter": "python",
   "pygments_lexer": "ipython3",
   "version": "3.11.5"
  },
  "toc": {
   "base_numbering": 1,
   "nav_menu": {},
   "number_sections": false,
   "sideBar": true,
   "skip_h1_title": false,
   "title_cell": "Table of Contents",
   "title_sidebar": "Contents",
   "toc_cell": false,
   "toc_position": {
    "height": "338.4px",
    "left": "140px",
    "top": "32.133px",
    "width": "165px"
   },
   "toc_section_display": true,
   "toc_window_display": true
  }
 },
 "nbformat": 4,
 "nbformat_minor": 4
}
