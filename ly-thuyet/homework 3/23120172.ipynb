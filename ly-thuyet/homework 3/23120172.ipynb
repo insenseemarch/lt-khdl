{
 "cells": [
  {
   "cell_type": "markdown",
   "id": "f8be0234-260e-4e74-b421-156c0cd2bea6",
   "metadata": {},
   "source": [
    "**Note: For this assignment, you may only use standard Python and the `re` (Regular Expression) module. Advanced libraries such as NumPy, Pandas are not permitted**"
   ]
  },
  {
   "cell_type": "markdown",
   "id": "803184f6",
   "metadata": {},
   "source": [
    "## Exercises 1"
   ]
  },
  {
   "cell_type": "markdown",
   "id": "ce96876e",
   "metadata": {},
   "source": [
    "Use `re.search` to find whether a string contains a phone number. The pattern that you write should detect a phone number in the following strings.  \n",
    "```\n",
    "\"Call me at 382-384-3840.\"  \n",
    "\"my number is (510) 849-3519. Call me!\"\n",
    "```  \n",
    "And not find a match in the following strings. \n",
    "```\n",
    "\"my number is 510-849-35192\"  \n",
    "\"here’s my number: 510-849.3519\"\n",
    "``` \n",
    "Consider making your own tests as well  "
   ]
  },
  {
   "cell_type": "code",
   "execution_count": 1,
   "id": "5a578ec2",
   "metadata": {},
   "outputs": [],
   "source": [
    "import re\n",
    "from datetime import datetime, timedelta"
   ]
  },
  {
   "cell_type": "code",
   "execution_count": 2,
   "id": "89249001",
   "metadata": {},
   "outputs": [
    {
     "name": "stdout",
     "output_type": "stream",
     "text": [
      "382-384-3840 : Match\n",
      "(510) 849-3519 : Match\n",
      "my number is 510-849-35192 : No match\n",
      "here’s my number: 510-849.3519 : No match\n"
     ]
    }
   ],
   "source": [
    "# YOUR CODE HERE\n",
    "texts = [\n",
    "    'Call me at 382-384-3840.',\n",
    "    'my number is (510) 849-3519. Call me!',\n",
    "    'my number is 510-849-35192',\n",
    "    'here’s my number: 510-849.3519'\n",
    "]\n",
    "\n",
    "phone = r'\\(?\\d{3}\\)?[\\s-]\\d{3}-\\d{4}(?!\\d)'\n",
    "for t in texts:\n",
    "    match = re.search(phone, t)\n",
    "    if match:\n",
    "        print(match.group(), ': Match')\n",
    "    else:\n",
    "        print(t, ': No match')"
   ]
  },
  {
   "cell_type": "markdown",
   "id": "a1078e7f",
   "metadata": {},
   "source": [
    "## Exercise 2"
   ]
  },
  {
   "cell_type": "markdown",
   "id": "c0d6c3fb",
   "metadata": {},
   "source": [
    "Use `re.sub` to alter the string below so that the dates have a common format that uses a dash for the day, month, and year separator.  \n",
    "```\n",
    "03/12/2018, 03.13.18, 03/14/2018, 03:15:2018\n",
    "```"
   ]
  },
  {
   "cell_type": "code",
   "execution_count": 3,
   "id": "d70602df",
   "metadata": {},
   "outputs": [
    {
     "data": {
      "text/plain": [
       "'03-12-2018, 03-13-18, 03-14-2018, 03-15-2018'"
      ]
     },
     "execution_count": 3,
     "metadata": {},
     "output_type": "execute_result"
    }
   ],
   "source": [
    "# YOUR CODE HERE\n",
    "text = '03/12/2018, 03.13.18, 03/14/2018, 03:15:2018'\n",
    "\n",
    "re.sub(r'[/.:]', '-', text)"
   ]
  },
  {
   "cell_type": "markdown",
   "id": "fa794a04",
   "metadata": {},
   "source": [
    "## Exercise 3"
   ]
  },
  {
   "cell_type": "markdown",
   "id": "ce035dd6",
   "metadata": {},
   "source": [
    "Consider the first five sentences of the novel “Little Women” below. Extract the spoken dialog from each sentence."
   ]
  },
  {
   "cell_type": "code",
   "execution_count": 4,
   "id": "997c791a",
   "metadata": {},
   "outputs": [
    {
     "name": "stdout",
     "output_type": "stream",
     "text": [
      "\n",
      "\"Christmas won't be Christmas without any presents,\" grumbled Jo, lying on the rug.\n",
      "\"It's so dreadful to be poor!\" sighed Meg, looking down at her old dress.\n",
      "\"I don't think it's fair for some girls to have plenty of pretty things, and other girls nothing at all,\" added little Amy, with an injured sniff.\n",
      "\"We've got Father and Mother, and each other,\" said Beth contentedly from her corner.\n",
      "The four young faces on which the firelight shone brightened at the cheerful words, but darkened again as Jo said sadly, \"We haven't got Father, and shall not have him for a long time.\"\n",
      "\n"
     ]
    }
   ],
   "source": [
    "text = '''\n",
    "\"Christmas won't be Christmas without any presents,\" grumbled Jo, lying on the rug.\n",
    "\"It's so dreadful to be poor!\" sighed Meg, looking down at her old dress.\n",
    "\"I don't think it's fair for some girls to have plenty of pretty things, and other girls nothing at all,\" added little Amy, with an injured sniff.\n",
    "\"We've got Father and Mother, and each other,\" said Beth contentedly from her corner.\n",
    "The four young faces on which the firelight shone brightened at the cheerful words, but darkened again as Jo said sadly, \"We haven't got Father, and shall not have him for a long time.\"\n",
    "'''\n",
    "print(text)"
   ]
  },
  {
   "cell_type": "code",
   "execution_count": 5,
   "id": "df29ef88",
   "metadata": {},
   "outputs": [
    {
     "name": "stdout",
     "output_type": "stream",
     "text": [
      "[\"Christmas won't be Christmas without any presents,\", \"It's so dreadful to be poor!\", \"I don't think it's fair for some girls to have plenty of pretty things, and other girls nothing at all,\", \"We've got Father and Mother, and each other,\", \"We haven't got Father, and shall not have him for a long time.\"]\n"
     ]
    }
   ],
   "source": [
    "# YOUR CODE HERE\n",
    "dialog = re.findall(r'\"(.*?)\"', text)\n",
    "print(dialog)"
   ]
  },
  {
   "cell_type": "markdown",
   "id": "424b965d",
   "metadata": {},
   "source": [
    "## Exercise 4"
   ]
  },
  {
   "cell_type": "markdown",
   "id": "c23288f5-57a1-4d63-b061-7ba77e4fa64d",
   "metadata": {},
   "source": [
    "In this exercise, you you working with ```email_test.txt``` file (attached), using Regular Expression.\\\n",
    "`Original Dataset: https://www.kaggle.com/datasets/rtatman/fraudulent-email-corpus`"
   ]
  },
  {
   "cell_type": "code",
   "execution_count": 6,
   "id": "2b6cb6b4-1ca3-438b-af64-d1c41a67f0aa",
   "metadata": {},
   "outputs": [
    {
     "name": "stdout",
     "output_type": "stream",
     "text": [
      "From r  Wed Oct 30 21:41:56 2002\n",
      "Return-Path: <james_ngola2002@maktoob.com>\n",
      "X-Sieve: cmu-sieve 2.0\n",
      "Return-Path: <james_ngola2002@maktoob.com>\n",
      "Message-Id: <200210310241.g9V2fNm6028281@cs.CU>\n",
      "From: \"MR. JAMES NGOLA.\" <james_ngola2002@maktoob.com>\n",
      "Reply-To: james_ngola2002@maktoob.com\n",
      "To: webmaster@aclweb.org\n",
      "Date: Thu, 31 Oct 2002 02:38:20 +0000\n",
      "Subject: URGENT BUSINESS ASSISTANCE AND PARTNERSHIP\n",
      "X-Mailer: Microsoft Outlook Express 5.00.2919.6900 DM\n",
      "MIME-Version: 1.0\n",
      "Content-Type: text/plain; char\n"
     ]
    }
   ],
   "source": [
    "# YOUR CODE HERE: open file\n",
    "file_path = 'email_test.txt'\n",
    "with open(file_path, \"r\", encoding=\"utf-8\", errors=\"ignore\") as f:\n",
    "    content = f.read()\n",
    "\n",
    "print(content[:500])"
   ]
  },
  {
   "cell_type": "markdown",
   "id": "4b20412e-72d3-4840-a048-a51c34c90765",
   "metadata": {},
   "source": [
    "#### Simple Fraudulent email detection"
   ]
  },
  {
   "cell_type": "markdown",
   "id": "bf3f869f-3a65-4324-9dc9-f0e696addbed",
   "metadata": {},
   "source": [
    "1. Count how many emails contain urgency-related words (URGENT, IMMEDIATELY, QUICK, ASSISTANCE, CONFIDENTIAL). \n",
    "Calculate what percentage of emails use these tactics."
   ]
  },
  {
   "cell_type": "code",
   "execution_count": 7,
   "id": "7977f630-4f84-4957-9658-9ec671f13b45",
   "metadata": {},
   "outputs": [
    {
     "name": "stdout",
     "output_type": "stream",
     "text": [
      "Tổng số email: 1330\n",
      "Email chứa các cụm từ khẩn cấp: 1143\n",
      "Tỉ lệ chiếm: 85.93984962406014 %\n"
     ]
    }
   ],
   "source": [
    "emails = re.split(r\"(?m)^From r\", content)\n",
    "emails = [e.strip() for e in emails if e.strip()]\n",
    "\n",
    "urgent_pattern = re.compile(r\"\\b(?:URGENT|IMMEDIATELY|QUICK|ASSISTANCE|CONFIDENTIAL)\\b\", re.IGNORECASE)\n",
    "\n",
    "urgent_count = sum(1 for mail in emails if urgent_pattern.search(mail))\n",
    "\n",
    "total_emails = len(emails)\n",
    "\n",
    "percentage = (urgent_count / total_emails) * 100\n",
    "\n",
    "print(\"Tổng số email:\", total_emails)\n",
    "print(\"Email chứa các cụm từ khẩn cấp:\", urgent_count)\n",
    "print(\"Tỉ lệ chiếm:\", percentage, \"%\")"
   ]
  },
  {
   "cell_type": "markdown",
   "id": "04ef15e5-861e-42e6-aba5-d087252c8568",
   "metadata": {},
   "source": [
    "2. Find all mentions of money amounts in the email bodies (e.g., `US$25M`, `$100,000.00`, `USD$31,000,000.00`). Calculate:\n",
    "- Total number of money mentions across all emails\n",
    "- The largest amount mentioned\n",
    "- The smallest amount mentioned\n",
    "- Average amount per email"
   ]
  },
  {
   "cell_type": "code",
   "execution_count": 8,
   "id": "c8a4e995",
   "metadata": {},
   "outputs": [
    {
     "name": "stdout",
     "output_type": "stream",
     "text": [
      "Tổng số lần nhắc đến tiền: 1967\n",
      "Số tiền lớn nhất: $85,050,000,000,000.00\n",
      "Số tiền nhỏ nhất: $0.28\n",
      "Trung bình số tiền được nhắc/email: $409,842,566,355.90\n"
     ]
    }
   ],
   "source": [
    "money_pattern = re.compile(r'(?:US\\$|USD\\$|\\$)\\s?\\d[\\d,]*(?:\\.\\d+)?\\s?(?:M|m|million|Million)?(?![A-Za-z])', re.IGNORECASE)\n",
    "\n",
    "money_mentions = money_pattern.findall(content)\n",
    "\n",
    "def parse_money(val):\n",
    "    v = val.upper().replace(\"USD\", \"\").replace(\"US$\", \"\").replace(\"$\", \"\").strip()\n",
    "    multiplier = 1\n",
    "    if v.endswith(\"M\"):\n",
    "        multiplier = 1_000_000\n",
    "        v = v[:-1]\n",
    "    elif v.endswith(\"MILLION\"):\n",
    "        multiplier = 1_000_000\n",
    "        v = v.replace(\"MILLION\", \"\")\n",
    "    v = v.replace(\",\", \"\").strip()\n",
    "    try:\n",
    "        return float(v) * multiplier\n",
    "    except:\n",
    "        return None\n",
    "\n",
    "money_values = [\n",
    "    parse_money(m) for m in money_mentions\n",
    "    if parse_money(m) not in (None, 0.0)\n",
    "]\n",
    "\n",
    "print(\"Tổng số lần nhắc đến tiền:\", len(money_values))\n",
    "print(f\"Số tiền lớn nhất: ${max(money_values):,.2f}\")\n",
    "print(f\"Số tiền nhỏ nhất: ${min(money_values):,.2f}\")\n",
    "print(f\"Trung bình số tiền được nhắc/email: ${sum(money_values)/len(emails):,.2f}\")"
   ]
  },
  {
   "cell_type": "markdown",
   "id": "32421055-b63a-42b3-a614-ba04a7f7f652",
   "metadata": {},
   "source": [
    "3. Extract all mentions of deaths or deceased persons (e.g., \"late father\", \"died\", \"deceased\", \"death of\").\\\n",
    "   What percentage of emails use death as part of their story?"
   ]
  },
  {
   "cell_type": "code",
   "execution_count": 9,
   "id": "0a42fd4f-136d-4ba1-928a-e37eeea25024",
   "metadata": {},
   "outputs": [
    {
     "name": "stdout",
     "output_type": "stream",
     "text": [
      "Tỉ lệ chiếm của các email đề cập đến cái chết hoặc người đã chết: 51.72932330827068\n"
     ]
    }
   ],
   "source": [
    "# YOUR CODE HERE\n",
    "death_pattern = re.compile(r\"\\b(?:LATE FATHER|DIED|DECEASED|DEATH OF)\\b\", re.IGNORECASE)\n",
    "death_count = sum(1 for mail in emails if death_pattern.search(mail))\n",
    "\n",
    "percentage = (death_count/total_emails) * 100\n",
    "\n",
    "print(\"Tỉ lệ chiếm của các email đề cập đến cái chết hoặc người đã chết:\", percentage)"
   ]
  },
  {
   "cell_type": "markdown",
   "id": "d8e6c648-80f1-4d96-9868-8539688f9174",
   "metadata": {},
   "source": [
    "4. Many emails mention percentage splits of money (e.g., \"70% for us\", \"20% for you\", \"10% for expenses\"). \\\n",
    "   Extract all percentage distributions and identify the most common split pattern offered to recipients.\n",
    "\n",
    "   Example: most common split patterns:\\\n",
    "   70% - 20% - 10%: appears 15 times\\\n",
    "   75% - 20% - 5%: appears 12 times\\\n",
    "    60% - 30% - 10%: appears 8 times\\\n",
    "    80% - 15% - 5%: appears 6 times\\\n",
    "    55% - 30% - 10% - 5%: appears 4 times"
   ]
  },
  {
   "cell_type": "code",
   "execution_count": 10,
   "id": "12ffe22e",
   "metadata": {},
   "outputs": [
    {
     "name": "stdout",
     "output_type": "stream",
     "text": [
      "60% - 30% - 10%: xuất hiện 46 lần\n",
      "70% - 25% - 5%: xuất hiện 43 lần\n",
      "70% - 20% - 10%: xuất hiện 34 lần\n",
      "60% - 35% - 5%: xuất hiện 33 lần\n",
      "75% - 20% - 5%: xuất hiện 27 lần\n"
     ]
    }
   ],
   "source": [
    "percent_pattern = re.compile(r'(\\d{1,3})\\s*%')\n",
    "splits = []\n",
    "pattern_counts = {}\n",
    "\n",
    "for email in emails:\n",
    "    nums = re.findall(percent_pattern, email)\n",
    "    if len(nums) >= 2:\n",
    "        nums = list(map(int, nums))\n",
    "        if abs(sum(nums) - 100) == 0:\n",
    "            norm = \" - \".join(f\"{n}%\" for n in sorted(nums, reverse=True))\n",
    "            splits.append(norm)\n",
    "            if norm in pattern_counts:\n",
    "                pattern_counts[norm] += 1\n",
    "            else:\n",
    "                pattern_counts[norm] = 1\n",
    "\n",
    "sorted_patterns = sorted(pattern_counts.items(), key=lambda x: x[1], reverse=True)\n",
    "\n",
    "for pat, cnt in sorted_patterns[:5]:\n",
    "    print(f\"{pat}: xuất hiện {cnt} lần\")"
   ]
  },
  {
   "cell_type": "markdown",
   "id": "edd7f2f3-2613-4657-95e6-c953286ebdb7",
   "metadata": {},
   "source": [
    "5. Create a \"scam score\" for each email based on:\\\n",
    "    Urgency keywords (1 point each)\\\n",
    "    Money mentions (2 points each)\\\n",
    "    Percentages offered (1 point each)\\\n",
    "    Death mentions (1 point)\\\n",
    "    ALL CAPS usage (1 point if >20% of text)\n",
    "\n",
    "    ***Rank the top 10 highest-scoring emails*** "
   ]
  },
  {
   "cell_type": "code",
   "execution_count": 11,
   "id": "900f4359-c2a3-4566-a2f1-b240069a94ec",
   "metadata": {},
   "outputs": [
    {
     "name": "stdout",
     "output_type": "stream",
     "text": [
      "Email #134: Scam score = 38\n",
      "Email #591: Scam score = 32\n",
      "Email #633: Scam score = 31\n",
      "Email #634: Scam score = 31\n",
      "Email #244: Scam score = 29\n",
      "Email #394: Scam score = 29\n",
      "Email #945: Scam score = 28\n",
      "Email #416: Scam score = 27\n",
      "Email #461: Scam score = 27\n",
      "Email #462: Scam score = 27\n"
     ]
    }
   ],
   "source": [
    "# YOUR CODE HERE\n",
    "\n",
    "scam_scores = []\n",
    "\n",
    "for idx, mail in enumerate(emails, 1):\n",
    "    score = 0\n",
    "    # Urgency\n",
    "    score += len(urgent_pattern.findall(mail)) * 1\n",
    "    # Money\n",
    "    score += len(money_pattern.findall(mail)) * 2\n",
    "    # Percentages\n",
    "    score += len(percent_pattern.findall(mail)) * 1\n",
    "    # Death mentions\n",
    "    if death_pattern.search(mail):\n",
    "        score += 1\n",
    "    # ALL CAPS\n",
    "    letters = [c for c in mail if c.isalpha()]\n",
    "    if letters:\n",
    "        caps_ratio = sum(1 for c in letters if c.isupper()) / len(letters)\n",
    "        if caps_ratio > 0.2:\n",
    "            score += 1\n",
    "    \n",
    "    scam_scores.append((idx, score))\n",
    "\n",
    "scam_scores_sorted = sorted(scam_scores, key=lambda x: x[1], reverse=True)\n",
    "\n",
    "for email_id, score in scam_scores_sorted[:10]:\n",
    "    print(f\"Email #{email_id}: Scam score = {score}\")"
   ]
  },
  {
   "cell_type": "markdown",
   "id": "4ae9b64d-8e96-46fc-870a-286f13c495ad",
   "metadata": {},
   "source": [
    "6. Identify emails that appear to be duplicates or near-duplicates (same sender, similar subject, sent within 24 hours). How many duplicate emails exist?"
   ]
  },
  {
   "cell_type": "code",
   "execution_count": 12,
   "id": "f9807415-83db-4573-824c-3122d0691f54",
   "metadata": {},
   "outputs": [
    {
     "name": "stdout",
     "output_type": "stream",
     "text": [
      "Số lượng email bị gửi (gần như) trùng: 252\n"
     ]
    }
   ],
   "source": [
    "# YOUR CODE HERE\n",
    "from_re = re.compile(r\"From:\\s*(.*)\", re.IGNORECASE)\n",
    "subject_re = re.compile(r\"Subject:\\s*(.*)\", re.IGNORECASE)\n",
    "date_re = re.compile(r\"Date:\\s*(.*)\", re.IGNORECASE)\n",
    "\n",
    "def parse_date(date_str):\n",
    "    try:\n",
    "        return datetime.strptime(date_str.strip(), \"%a, %d %b %Y %H:%M:%S %z\")\n",
    "    except:\n",
    "        return None\n",
    "\n",
    "records = []\n",
    "for mail in emails:\n",
    "    sender = None\n",
    "    subject = None\n",
    "    date = None\n",
    "    \n",
    "    m_from = from_re.search(mail)\n",
    "    if m_from:\n",
    "        sender = m_from.group(1).strip()\n",
    "    \n",
    "    m_subject = subject_re.search(mail)\n",
    "    if m_subject:\n",
    "        subject = m_subject.group(1).strip().lower()\n",
    "    \n",
    "    m_date = date_re.search(mail)\n",
    "    if m_date:\n",
    "        date = parse_date(m_date.group(1))\n",
    "    \n",
    "    if sender and subject and date:\n",
    "        records.append((sender, subject, date))\n",
    "\n",
    "duplicates = []\n",
    "for i in range(len(records)):\n",
    "    for j in range(i+1, len(records)):\n",
    "        sender1, subj1, date1 = records[i]\n",
    "        sender2, subj2, date2 = records[j]\n",
    "        if sender1 == sender2 and subj1 == subj2:\n",
    "            if date1 and date2 and abs(date1 - date2) <= timedelta(hours=24):\n",
    "                duplicates.append((i, j))\n",
    "\n",
    "print(\"Số lượng email bị gửi (gần như) trùng:\", len(duplicates))"
   ]
  }
 ],
 "metadata": {
  "kernelspec": {
   "display_name": "Python 3 (ipykernel)",
   "language": "python",
   "name": "python3"
  },
  "language_info": {
   "codemirror_mode": {
    "name": "ipython",
    "version": 3
   },
   "file_extension": ".py",
   "mimetype": "text/x-python",
   "name": "python",
   "nbconvert_exporter": "python",
   "pygments_lexer": "ipython3",
   "version": "3.11.5"
  },
  "vscode": {
   "interpreter": {
    "hash": "480a220089555a41f3a156eb9bb9648c7435afde896ef7949f2cdd3a44c0a0fe"
   }
  }
 },
 "nbformat": 4,
 "nbformat_minor": 5
}
