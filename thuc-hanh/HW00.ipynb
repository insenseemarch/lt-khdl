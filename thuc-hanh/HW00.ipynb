{
 "cells": [
  {
   "cell_type": "markdown",
   "id": "cd4bf486",
   "metadata": {},
   "source": [
    "# Lab 0: Giới thiệu về Lập trình Python\n",
    "\n",
    "\n",
    "(Cập nhật lần cuối 02/10/2025)\n",
    "\n",
    "Họ tên: Trần Thị Thủy Tiên\n",
    "\n",
    "MSSV: 23120172\n"
   ]
  },
  {
   "cell_type": "markdown",
   "id": "5366c683",
   "metadata": {},
   "source": [
    "&#9889; Bạn lưu ý là mình sẽ dùng chương trình hỗ trợ chấm bài nên bạn cần phải tuân thủ chính xác qui định mà mình đặt ra, nếu không rõ thì hỏi, chứ không nên tự tiện làm theo ý của cá nhân.\n",
    "\n",
    "**Cách làm bài**\n",
    "\n",
    "Bạn sẽ làm trực tiếp trên file notebook này. Đầu tiên, bạn điền họ tên và MSSV vào phần đầu file ở bên trên. Trong file, bạn làm bài ở những chỗ có ghi là:\n",
    "```python\n",
    "# YOUR CODE HERE\n",
    "raise NotImplementedError()\n",
    "\n",
    "# Hoặc\n",
    "\n",
    "# TODO x.x\n",
    "```\n",
    "hoặc đối với những phần code không bắt buộc thì là:\n",
    "```python\n",
    "# YOUR CODE HERE (OPTION)\n",
    "```\n",
    "hoặc đối với markdown cell thì là:\n",
    "```markdown\n",
    "YOUR ANSWER HERE\n",
    "```\n",
    "Tất nhiên, khi làm thì bạn xóa dòng `raise NotImplementedError()` đi.\n",
    "Đối những phần yêu cầu code thì thường ở ngay phía dưới sẽ có một (hoặc một số) cell chứa các bộ test để giúp bạn biết đã code đúng hay chưa; nếu chạy cell này không có lỗi gì thì có nghĩa là qua được các bộ test. Trong một số trường hợp, các bộ test có thể sẽ không đầy đủ; nghĩa là, nếu không qua được test thì là code sai, nhưng nếu qua được test thì chưa chắc đã đúng hoàn toàn.\n",
    "\n",
    "Trong khi làm bài, bạn có thể cho in ra màn hình, tạo thêm các cell để test. Nhưng khi nộp bài thì bạn xóa các cell mà bạn tự tạo, xóa hoặc comment các câu lệnh in ra màn hình. Bạn lưu ý <font color=red>không được tự tiện xóa các cell hay sửa code của Thầy</font> (trừ những chỗ được phép sửa như đã nói ở trên).\n",
    "\n",
    "Bạn cố gắng giữ cho code rõ ràng, ngăn nắp: đặt tên biến gợi ý, comment ở những chỗ cần comment, giữ cho một dòng code không quá dài (vì nếu không thì người đọc sẽ phải mất công scroll, bạn có thể dùng qui tắc: một dòng code chỉ nên có tối đa là 79 ký tự). \n",
    "\n",
    "Trong khi làm bài, thường xuyên `Ctrl + S` để lưu lại bài làm của bạn, tránh mất mát thông tin.\n",
    "\n",
    "\n",
    "*Nên nhớ mục tiêu chính ở đây là <font color=green>học, học một cách chân thật</font>. Bạn có thể thảo luận ý tưởng với bạn khác, nhưng <font color=green>code và bài làm phải là của bạn, dựa trên sự hiểu thật sự của bạn</font>. <font color=red>Nếu vi phạm thì sẽ bị 0 điểm cho toàn bộ môn học.</font>*\n",
    "\n",
    "**Cách nộp bài**\n",
    "\n",
    "Khi chấm bài, đầu tiên mình sẽ chọn `Kernel` - `Restart & Run All` để restart và chạy tất cả các cell trong notebook của bạn; do đó, trước khi nộp bài, bạn nên chạy thử `Kernel` - `Restart & Run All` để đảm bảo mọi chuyện diễn ra đúng như mong đợi.\n",
    "\n",
    "Sau đó, bạn tạo thư mục nộp bài theo cấu trúc sau:\n",
    "- Thư mục `MSSV` (vd, nếu bạn có MSSV là 1234567 thì bạn đặt tên thư mục là `1234567`)\n",
    "    - File `HW00.ipynb` (không cần nộp các file khác)\n",
    "\n",
    "Cuối cùng, bạn nén thư mục `MSSV` này lại và nộp ở link trên moodle. <font color=red>Bạn lưu ý tuân thủ chính xác qui định nộp bài.</font>"
   ]
  },
  {
   "cell_type": "code",
   "execution_count": null,
   "id": "3d9ffcdb",
   "metadata": {},
   "outputs": [
    {
     "ename": "",
     "evalue": "",
     "output_type": "error",
     "traceback": [
      "\u001b[1;31mRunning cells with '.venv (Python 3.13.5)' requires the ipykernel package.\n",
      "\u001b[1;31mInstall 'ipykernel' into the Python environment. \n",
      "\u001b[1;31mCommand: '\"d:/HCMUS/LT KHDL/W03/.venv/Scripts/python.exe\" -m pip install ipykernel -U --force-reinstall'"
     ]
    }
   ],
   "source": [
    "import sys\n",
    "import threading\n",
    "sys.setrecursionlimit(10**7)  # max depth of recursion\n",
    "threading.stack_size(2**27)  # new thread will get stack of such size\n",
    "\n",
    "\n",
    "def mergesort(arr):\n",
    "    if len(arr) > 1:\n",
    "        mid = len(arr) // 2\n",
    "        left_arr = arr[:mid]\n",
    "        right_arr = arr[mid:]\n",
    "\n",
    "        mergesort(left_arr)\n",
    "        mergesort(right_arr)\n",
    "\n",
    "        i = j = k = 0\n",
    "        while (i < len(left_arr)) and (j < len(right_arr)):\n",
    "            if (left_arr[i] < right_arr[j]):\n",
    "                arr[k] = left_arr[i]\n",
    "                i += 1\n",
    "            else:\n",
    "                arr[k] = right_arr[j]\n",
    "                j += 1\n",
    "            k += 1\n",
    "        while (i < len(left_arr)):\n",
    "            arr[k] = left_arr[i]\n",
    "            i += 1\n",
    "            k += 1\n",
    "\n",
    "        while (j < len(right_arr)):\n",
    "            arr[k] = right_arr[j]\n",
    "            j += 1\n",
    "            k += 1\n",
    "\n",
    "\n",
    "a = [3, 6, 8, 10, 1, 2, 1]\n",
    "mergesort(a)\n",
    "print(a)\n"
   ]
  },
  {
   "cell_type": "markdown",
   "id": "42cab62f",
   "metadata": {},
   "source": [
    "## Primitive Datatypes and Operators"
   ]
  },
  {
   "cell_type": "code",
   "execution_count": null,
   "id": "5189d8da",
   "metadata": {},
   "outputs": [],
   "source": [
    "# You have numbers\n",
    "3  # => 3"
   ]
  },
  {
   "cell_type": "code",
   "execution_count": null,
   "id": "b1125d32",
   "metadata": {},
   "outputs": [],
   "source": [
    "# To print something\n",
    "print(\"Something\")\n",
    "print(4)\n"
   ]
  },
  {
   "cell_type": "code",
   "execution_count": null,
   "id": "09e1e829",
   "metadata": {},
   "outputs": [],
   "source": [
    "# Math is what you would expect\n",
    "print(1 + 1)   # => 2\n",
    "print(8 - 1)   # => 7\n",
    "print(10 * 2)  # => 20\n",
    "print(35 / 5)  # => 7.0\n"
   ]
  },
  {
   "cell_type": "code",
   "execution_count": null,
   "id": "40c78505",
   "metadata": {},
   "outputs": [],
   "source": [
    "# Integer division rounds down for both positive and negative numbers.\n",
    "print(10 // 2)\n",
    "print(-10 // 2)\n",
    "print(10 // -2)\n",
    "print(-10 // -2)\n",
    "\n",
    "print(10.0 // 2)\n",
    "print(10 // 2.0)\n",
    "print(10.0 // 2.0)\n",
    "\n",
    "print(10.0 // 3)\n"
   ]
  },
  {
   "cell_type": "code",
   "execution_count": null,
   "id": "787d1280",
   "metadata": {},
   "outputs": [],
   "source": [
    "# The result of division is always a float\n",
    "print(10.0 / 3)  # => 3.3333333333333335\n"
   ]
  },
  {
   "cell_type": "code",
   "execution_count": null,
   "id": "26a33172",
   "metadata": {},
   "outputs": [],
   "source": [
    "# Modulo operation\n",
    "# The modulo operation has interesting behavior with negative numbers\n",
    "print(8 % 5)\n",
    "print(-8 % 5)\n",
    "\n",
    "print(8 % -5)\n",
    "print(-8 % -5)\n"
   ]
  },
  {
   "cell_type": "markdown",
   "id": "4f838ce2-ec74-43b3-9767-104ce7904c24",
   "metadata": {
    "tags": []
   },
   "source": [
    "**TODO 1.1: Explain why Python's modulo behaves this way**\n",
    "\n",
    "Hint: Python ensures that (a // b) * b + (a % b) == a\n",
    "\n",
    "Write your explanation here:\n",
    "\n",
    "YOUR ANSWER HERE\n",
    "\n",
    "Vì modulo trong Python định nghĩa rằng (a // b) * b + (a % b) == a (1) và phép chia sẽ làm tròn xuống, ta có:\n",
    "- `8 % 5 = 3`  \n",
    "  → 8 // 5 = 1. Thay số vào (1), được: 1 * 5 + (8 % 5) == 8 ⇒ `8 % 5 == 8 - 1 * 5 == 3`\n",
    "- `-8 % 5 = 3`  \n",
    "  → -8 // 5 = -2. Thay số vào (1), được: -2 * 5 + (-8 % 5) == -8 ⇒ `-8 % 5 == -8 - (-2 * 5) == 2`\n",
    "- `8 % -5 = -2`  \n",
    "  → 8 // -5 = -2. Thay số vào (1), được: -2 * -5 + (8 % -5) == 8 ⇒ `8 % -5 == 8 - (-2 * -5) == -2`\n",
    "- `-8 % -5 = -3`  \n",
    "  → -8 // -5 = 1. Thay số vào (1), được: 1 * -5 + (-8 % -5) == -8 ⇒ `-8 % -5 == -8 - (1 * -5) == -3`"
   ]
  },
  {
   "cell_type": "code",
   "execution_count": null,
   "id": "1f9f7096",
   "metadata": {},
   "outputs": [],
   "source": [
    "# Exponentiation (x**y, x to the yth power)\n",
    "print(4**3)\n"
   ]
  },
  {
   "cell_type": "code",
   "execution_count": null,
   "id": "6d9f89f5",
   "metadata": {},
   "outputs": [],
   "source": [
    "# Enforce precedence with parentheses\n",
    "\n",
    "equation_1 = (1 + 3) * 2\n",
    "equation_2 = 1 + 3 * 2\n",
    "\n",
    "print(equation_1)\n",
    "print(equation_2)"
   ]
  },
  {
   "cell_type": "code",
   "execution_count": null,
   "id": "98486ed5",
   "metadata": {},
   "outputs": [],
   "source": [
    "# Boolean values are primitives (Note: the capitalization)\n",
    "print(True)   # => True\n",
    "print(False)  # => False\n",
    "\n",
    "# negate with not\n",
    "print(not True)   # => False\n",
    "print(not False)  # => True\n"
   ]
  },
  {
   "cell_type": "code",
   "execution_count": null,
   "id": "b515c277",
   "metadata": {},
   "outputs": [],
   "source": [
    "# Boolean Operators\n",
    "# Note \"and\" and \"or\" are case-sensitive\n",
    "print(True and False)  # => False\n",
    "print(False or True)   # => True\n"
   ]
  },
  {
   "cell_type": "code",
   "execution_count": null,
   "id": "79f306d0",
   "metadata": {},
   "outputs": [],
   "source": [
    "# True and False are actually 1 and 0 but with different keywords\n",
    "print(True + True) # => 2\n",
    "print(True * 8)    # => 8\n",
    "print(False - 5)   # => -5"
   ]
  },
  {
   "cell_type": "code",
   "execution_count": null,
   "id": "72e5febd",
   "metadata": {},
   "outputs": [],
   "source": [
    "# Comparison operators look at the numerical value of True and False\n",
    "print(0 == False)  # => True\n",
    "print(1 == True)   # => True\n",
    "print(2 == True)   # => False\n",
    "print(-5 != False) # => True"
   ]
  },
  {
   "cell_type": "code",
   "execution_count": null,
   "id": "aa7ee20f",
   "metadata": {},
   "outputs": [],
   "source": [
    "# None, 0, and empty strings/lists/dicts/tuples/sets all evaluate to False.\n",
    "# All other values are True\n",
    "print(bool(0))     # => False\n",
    "print(bool(\"\"))    # => False\n",
    "print(bool([]))    # => False\n",
    "print(bool({}))    # => False\n",
    "print(bool(()))    # => False\n",
    "print(bool(set())) # => False\n",
    "print(bool(4))     # => True\n",
    "print(bool(-6))    # => True"
   ]
  },
  {
   "cell_type": "code",
   "execution_count": null,
   "id": "5cdd8750",
   "metadata": {},
   "outputs": [],
   "source": [
    "# Using boolean logical operators on ints casts them to booleans for evaluation, but their non-cast value is returned\n",
    "\n",
    "# Don't mix up with bool(ints) and bitwise and/or (&,|)\n",
    "\n",
    "print(bool(0))     # => False\n",
    "print(bool(2))     # => True\n",
    "print(0 and 2)     # => 0\n",
    "print(bool(-5))    # => True\n",
    "print(bool(2))     # => True\n",
    "print(-5 or 0)     # => -5"
   ]
  },
  {
   "cell_type": "code",
   "execution_count": null,
   "id": "2a73b1e7",
   "metadata": {},
   "outputs": [],
   "source": [
    "# Equality is ==\n",
    "1 == 1  # => True\n",
    "2 == 1  # => False"
   ]
  },
  {
   "cell_type": "code",
   "execution_count": null,
   "id": "cd332f37",
   "metadata": {},
   "outputs": [],
   "source": [
    "# Inequality is !=\n",
    "1 != 1  # => False\n",
    "2 != 1  # => True"
   ]
  },
  {
   "cell_type": "code",
   "execution_count": null,
   "id": "74fb2fe4",
   "metadata": {},
   "outputs": [],
   "source": [
    "# More comparisons\n",
    "1 < 10  # => True\n",
    "1 > 10  # => False\n",
    "2 <= 2  # => True\n",
    "2 >= 2  # => True"
   ]
  },
  {
   "cell_type": "code",
   "execution_count": null,
   "id": "07c8c10d",
   "metadata": {},
   "outputs": [],
   "source": [
    "# Seeing whether a value is in a range\n",
    "1 < 2 and 2 < 3  # => True\n",
    "2 < 3 and 3 < 2  # => False"
   ]
  },
  {
   "cell_type": "code",
   "execution_count": null,
   "id": "d98a222c",
   "metadata": {},
   "outputs": [],
   "source": [
    "# Chaining makes this look nicer\n",
    "1 < 2 < 3  # => True\n",
    "2 < 3 < 2  # => False"
   ]
  },
  {
   "cell_type": "code",
   "execution_count": null,
   "id": "af03d0d5",
   "metadata": {},
   "outputs": [],
   "source": [
    "# (is vs. ==) is checks if two variables refer to the same object, but == checks\n",
    "# if the objects pointed to have the same values.\n",
    "\n",
    "from copy import copy\n",
    "\n",
    "\n",
    "a = [1, 2, 3, 4]  # Point a at a new list, [1, 2, 3, 4]\n",
    "b = a             # Point b at what a is pointing to\n",
    "\n",
    "print(b is a)            # => True, a and b refer to the same object\n",
    "print(b == a)            # => True, a's and b's objects are equal\n",
    "print(b == [1, 2, 3, 4])  # Point b at a new list, [1, 2, 3, 4]\n",
    "print(b is a)            # => False, a and b do not refer to the same object\n",
    "print(b == a)            # => True, a's and b's objects are equal\n",
    "\n",
    "a_cp = copy(a)\n",
    "\n",
    "print(a_cp is a)     # False, explain why?\n"
   ]
  },
  {
   "cell_type": "code",
   "execution_count": null,
   "id": "6c1d229d",
   "metadata": {},
   "outputs": [],
   "source": [
    "# Strings are created with \" or '\n",
    "print(\"This is a string.\")\n",
    "\n",
    "print('This is also a string.')\n"
   ]
  },
  {
   "cell_type": "code",
   "execution_count": null,
   "id": "2ef028a7",
   "metadata": {},
   "outputs": [],
   "source": [
    "# Strings can be added too\n",
    "print(\"Hello \" + \"world!\")  # => \"Hello world!\"\n",
    "\n",
    "# String literals (but not variables) can be concatenated without using '+'\n",
    "print(\"Hello \" \"world!\")    # => \"Hello world!\"\n"
   ]
  },
  {
   "cell_type": "code",
   "execution_count": null,
   "id": "d85ee06a",
   "metadata": {},
   "outputs": [],
   "source": [
    "# A string can be treated like a list of characters\n",
    "print(\"Hello world!\"[0])  # => 'H'"
   ]
  },
  {
   "cell_type": "code",
   "execution_count": null,
   "id": "1a468388",
   "metadata": {},
   "outputs": [],
   "source": [
    "# You can find the length of a string\n",
    "len(\"This is a string\")  # => 16"
   ]
  },
  {
   "cell_type": "code",
   "execution_count": null,
   "id": "bb65f87f",
   "metadata": {},
   "outputs": [],
   "source": [
    "# You can also format using f-strings or formatted string literals (in Python 3.6+)\n",
    "\n",
    "name = \"your_name\"\n",
    "print(f\"I said my name is {name}.\")  # => \"I said my name is your_name\"\n",
    "\n",
    "# You can basically put any Python expression inside the braces and it will be output in the string.\n",
    "# => \"your_name is {length of your name} characters long.\"\n",
    "print(f\"{name} is {len(name)} characters long.\")\n",
    "\n",
    "\n",
    "# Or you can use .format method\n",
    "print(\"I said my name is {}.\".format(name))\n",
    "\n",
    "print(\"{} is {} characters long.\".format(name, len(name)))\n"
   ]
  },
  {
   "cell_type": "code",
   "execution_count": null,
   "id": "d933d9c8",
   "metadata": {},
   "outputs": [],
   "source": [
    "# None is an object\n",
    "None  # => None"
   ]
  },
  {
   "cell_type": "code",
   "execution_count": null,
   "id": "0dd2773a",
   "metadata": {},
   "outputs": [],
   "source": [
    "# Use the equality \"==\" symbol to compare objects to None\n",
    "\n",
    "print(\"etc\" == None)  # => False\n",
    "print(None == None)   # => True\n"
   ]
  },
  {
   "cell_type": "code",
   "execution_count": null,
   "id": "581b6d02",
   "metadata": {},
   "outputs": [],
   "source": [
    "# None, 0, and empty strings/lists/dicts/tuples/sets all evaluate to False.\n",
    "# All other values are True\n",
    "\n",
    "print(bool(0))     # => False\n",
    "print(bool(\"\"))    # => False\n",
    "print(bool([]))    # => False\n",
    "print(bool({}))    # => False\n",
    "print(bool(()))    # => False\n",
    "print(bool(set()))  # => False\n"
   ]
  },
  {
   "cell_type": "markdown",
   "id": "cb0440bf",
   "metadata": {},
   "source": [
    "## Variables and Collections"
   ]
  },
  {
   "cell_type": "code",
   "execution_count": null,
   "id": "5370fcdf",
   "metadata": {},
   "outputs": [],
   "source": [
    "# There are no declarations, only assignments.\n",
    "# Convention is to use lower_case_with_underscores\n",
    "some_var = 5\n",
    "some_var  # => 5\n"
   ]
  },
  {
   "cell_type": "code",
   "execution_count": null,
   "id": "1abaaa4e",
   "metadata": {},
   "outputs": [],
   "source": [
    "# Accessing a previously unassigned variable is an exception.\n",
    "# See Control Flow to learn more about exception handling.\n",
    "# some_unknown_var  # Raises a NameError\n"
   ]
  },
  {
   "cell_type": "code",
   "execution_count": null,
   "id": "927b3caa",
   "metadata": {},
   "outputs": [],
   "source": [
    "# if can be used as an expression\n",
    "# Equivalent of C's '?:' ternary operator\n",
    "\"yay!\" if 0 > 1 else \"nay!\"  # => \"nay!\"\n"
   ]
  },
  {
   "cell_type": "code",
   "execution_count": null,
   "id": "69669aaf",
   "metadata": {},
   "outputs": [],
   "source": [
    "# Lists store sequences\n",
    "li = []\n",
    "\n",
    "# You can start with a prefilled list\n",
    "other_li = [4, 5, 6]"
   ]
  },
  {
   "cell_type": "code",
   "execution_count": null,
   "id": "56ea1a56",
   "metadata": {},
   "outputs": [],
   "source": [
    "# Add stuff to the end of a list with append\n",
    "li.append(1)    # li is now [1]\n",
    "print(li)\n",
    "\n",
    "li.append(2)    # li is now [1, 2]\n",
    "print(li)\n",
    "\n",
    "li.append(4)    # li is now [1, 2, 4]\n",
    "print(li)\n",
    "\n",
    "li.append(3)    # li is now [1, 2, 4, 3]\n",
    "print(li)"
   ]
  },
  {
   "cell_type": "code",
   "execution_count": null,
   "id": "f233fd0c",
   "metadata": {},
   "outputs": [],
   "source": [
    "# Remove from the end with pop\n",
    "li.pop()        # => 3 and li is now [1, 2, 4]\n",
    "print(li)\n"
   ]
  },
  {
   "cell_type": "code",
   "execution_count": null,
   "id": "fad587b5",
   "metadata": {},
   "outputs": [],
   "source": [
    "# Let's put it back\n",
    "li.append(3)    # li is now [1, 2, 4, 3] again.\n",
    "print(li)\n"
   ]
  },
  {
   "cell_type": "code",
   "execution_count": null,
   "id": "70edaeec",
   "metadata": {},
   "outputs": [],
   "source": [
    "# Access a list like you would any array\n",
    "print(li[0])   # => 1\n"
   ]
  },
  {
   "cell_type": "code",
   "execution_count": null,
   "id": "ef9cb885",
   "metadata": {},
   "outputs": [],
   "source": [
    "# Look at the last element\n",
    "print(li[-1])  # => 3"
   ]
  },
  {
   "cell_type": "code",
   "execution_count": null,
   "id": "6ce30815",
   "metadata": {},
   "outputs": [],
   "source": [
    "# Looking out of bounds is an IndexError\n",
    "#print(li[4])  # Raises an IndexError"
   ]
  },
  {
   "cell_type": "code",
   "execution_count": null,
   "id": "ca1b0c81",
   "metadata": {},
   "outputs": [],
   "source": [
    "# You can look at ranges with slice syntax.\n",
    "# The start index is included, the end index is not\n",
    "# (It's a closed/open range for you mathy types.)\n",
    "\n",
    "print(li[1:3])   # Return list from index 1 to 3 => [2, 4]\n",
    "print(li[2:])    # Return list starting from index 2 => [4, 3]\n",
    "print(li[:3])    # Return list from beginning until index 3  => [1, 2, 4]\n",
    "print(li[::2])   # Return list selecting every second entry => [1, 4]\n",
    "print(li[::-1])  # Return list in reverse order => [3, 4, 2, 1]\n",
    "\n",
    "# Use any combination of these to make advanced slices\n",
    "# li[start:end:step]\n"
   ]
  },
  {
   "cell_type": "code",
   "execution_count": null,
   "id": "e5c2718a",
   "metadata": {},
   "outputs": [],
   "source": [
    "# Make a one layer deep copy using slices\n",
    "li2 = li[:]  # => li2 = [1, 2, 4, 3] but (li2 is li) will result in false.\n"
   ]
  },
  {
   "cell_type": "code",
   "execution_count": null,
   "id": "4b6c8895",
   "metadata": {},
   "outputs": [],
   "source": [
    "# Remove arbitrary elements from a list with \"del\"\n",
    "del li[2]  # li is now [1, 2, 3]\n"
   ]
  },
  {
   "cell_type": "code",
   "execution_count": null,
   "id": "a58a5507",
   "metadata": {},
   "outputs": [],
   "source": [
    "# Remove first occurrence of a value\n",
    "print(li)\n",
    "li.remove(2)  # li is now [1, 3]\n",
    "\n",
    "\n",
    "#li.remove(2)  # Raises a ValueError as 2 is not in the list"
   ]
  },
  {
   "cell_type": "code",
   "execution_count": null,
   "id": "2179bdc0",
   "metadata": {},
   "outputs": [],
   "source": [
    "# Insert an element at a specific index\n",
    "li.insert(1, 2)  # li is now [1, 2, 3] again\n",
    "print(li)"
   ]
  },
  {
   "cell_type": "code",
   "execution_count": null,
   "id": "82a056e5",
   "metadata": {},
   "outputs": [],
   "source": [
    "# Get the index of the first item found matching the argument\n",
    "li.index(2)  # => 1\n",
    "\n",
    "#li.index(4)  # Raises a ValueError as 4 is not in the list"
   ]
  },
  {
   "cell_type": "code",
   "execution_count": null,
   "id": "a864d15c",
   "metadata": {},
   "outputs": [],
   "source": [
    "# You can add lists\n",
    "# Note: values for li and for other_li are not modified.\n",
    "li + other_li  # => [1, 2, 3, 4, 5, 6]"
   ]
  },
  {
   "cell_type": "code",
   "execution_count": null,
   "id": "b59ddfbc",
   "metadata": {},
   "outputs": [],
   "source": [
    "# Concatenate lists with \"extend()\"\n",
    "li.extend(other_li)  # Now li is [1, 2, 3, 4, 5, 6]"
   ]
  },
  {
   "cell_type": "code",
   "execution_count": null,
   "id": "4bcc3c7a",
   "metadata": {},
   "outputs": [],
   "source": [
    "li"
   ]
  },
  {
   "cell_type": "code",
   "execution_count": null,
   "id": "6eccdc32",
   "metadata": {},
   "outputs": [],
   "source": [
    "# Check for existence in a list with \"in\"\n",
    "1 in li  # => True"
   ]
  },
  {
   "cell_type": "code",
   "execution_count": null,
   "id": "1017c918",
   "metadata": {},
   "outputs": [],
   "source": [
    "# Examine the length with \"len()\"\n",
    "len(li)  # => 6"
   ]
  },
  {
   "cell_type": "code",
   "execution_count": null,
   "id": "634a196d",
   "metadata": {},
   "outputs": [],
   "source": [
    "# Tuples are like lists but are immutable.\n",
    "tup = (1, 2, 3)\n",
    "tup[0]      # => 1\n",
    "#tup[0] = 3  # Raises a TypeError"
   ]
  },
  {
   "cell_type": "code",
   "execution_count": null,
   "id": "2e489a0b",
   "metadata": {},
   "outputs": [],
   "source": [
    "# Note that a tuple of length one has to have a comma after the last element but\n",
    "# tuples of other lengths, even zero, do not.\n",
    "print(type((1)))   # => <class 'int'>\n",
    "print(type((1,)))  # => <class 'tuple'>\n",
    "print(type(()))    # => <class 'tuple'>"
   ]
  },
  {
   "cell_type": "code",
   "execution_count": null,
   "id": "b4e5f3fd",
   "metadata": {},
   "outputs": [],
   "source": [
    "# You can do most of the list operations on tuples too\n",
    "print(len(tup))         # => 3\n",
    "print(tup + (4, 5, 6))  # => (1, 2, 3, 4, 5, 6)\n",
    "print(tup[:2])          # => (1, 2)\n",
    "print(2 in tup)         # => True"
   ]
  },
  {
   "cell_type": "code",
   "execution_count": null,
   "id": "e5d35291",
   "metadata": {},
   "outputs": [],
   "source": [
    "# You can unpack tuples (or lists) into variables\n",
    "a, b, c = (1, 2, 3)  # a is now 1, b is now 2 and c is now 3\n",
    "\n",
    "# You can also do extended unpacking\n",
    "a, *b, c = (1, 2, 3, 4)  # a is now 1, b is now [2, 3] and c is now 4\n",
    "\n",
    "# Tuples are created by default if you leave out the parentheses\n",
    "d, e, f = 4, 5, 6  # tuple 4, 5, 6 is unpacked into variables d, e and f\n",
    "\n",
    "# respectively such that d = 4, e = 5 and f = 6\n",
    "# Now look how easy it is to swap two values\n",
    "e, d = d, e  # d is now 5 and e is now 4"
   ]
  },
  {
   "cell_type": "code",
   "execution_count": null,
   "id": "300b9357",
   "metadata": {},
   "outputs": [],
   "source": [
    "# Dictionaries store mappings from keys to values\n",
    "empty_dict = {}\n",
    "print(empty_dict)\n",
    "\n",
    "# Here is a prefilled dictionary\n",
    "filled_dict = {\"one\": 1, \"two\": 2, \"three\": 3}\n",
    "print(filled_dict)"
   ]
  },
  {
   "cell_type": "code",
   "execution_count": null,
   "id": "088df3a2",
   "metadata": {},
   "outputs": [],
   "source": [
    "# Note keys for dictionaries have to be immutable types. This is to ensure that\n",
    "# the key can be converted to a constant hash value for quick look-ups.\n",
    "# Immutable types include ints, floats, strings, tuples.\n",
    "\n",
    "#invalid_dict = {[1,2,3]: \"123\"}  # => Raises a TypeError: unhashable type: 'list'\n",
    "\n",
    "\n",
    "valid_dict = {(1,2,3):[1,2,3]}   # Values can be of any type, however."
   ]
  },
  {
   "cell_type": "code",
   "execution_count": null,
   "id": "a9160e33",
   "metadata": {},
   "outputs": [],
   "source": [
    "# Get all keys as an iterable with \"keys()\". We need to wrap the call in list()\n",
    "# to turn it into a list. We'll talk about those later.  Note - for Python\n",
    "# versions <3.7, dictionary key ordering is not guaranteed. Your results might\n",
    "# not match the example below exactly. However, as of Python 3.7, dictionary\n",
    "# items maintain the order at which they are inserted into the dictionary.\n",
    "\n",
    "list(filled_dict.keys())  # => [\"three\", \"two\", \"one\"] in Python <3.7\n",
    "list(filled_dict.keys())  # => [\"one\", \"two\", \"three\"] in Python 3.7+"
   ]
  },
  {
   "cell_type": "code",
   "execution_count": null,
   "id": "3cdeb9c7",
   "metadata": {},
   "outputs": [],
   "source": [
    "# Get all values as an iterable with \"values()\". Once again we need to wrap it\n",
    "# in list() to get it out of the iterable. Note - Same as above regarding key\n",
    "# ordering.\n",
    "list(filled_dict.values())  # => [3, 2, 1]  in Python <3.7\n",
    "list(filled_dict.values())  # => [1, 2, 3] in Python 3.7+"
   ]
  },
  {
   "cell_type": "code",
   "execution_count": null,
   "id": "f5258a70",
   "metadata": {},
   "outputs": [],
   "source": [
    "# Check for existence of keys in a dictionary with \"in\"\n",
    "\"one\" in filled_dict  # => True\n",
    "1 in filled_dict      # => False"
   ]
  },
  {
   "cell_type": "code",
   "execution_count": null,
   "id": "7bc484fa",
   "metadata": {},
   "outputs": [],
   "source": [
    "# Looking up a non-existing key is a KeyError\n",
    "#filled_dict[\"four\"]  # KeyError"
   ]
  },
  {
   "cell_type": "code",
   "execution_count": null,
   "id": "910cb014",
   "metadata": {},
   "outputs": [],
   "source": [
    "# Use \"get()\" method to avoid the KeyError\n",
    "filled_dict.get(\"one\")      # => 1\n",
    "filled_dict.get(\"four\")     # => None\n",
    "\n",
    "# The get method supports a default argument when the value is missing\n",
    "filled_dict.get(\"one\", 4)   # => 1\n",
    "filled_dict.get(\"four\", 4)  # => 4"
   ]
  },
  {
   "cell_type": "code",
   "execution_count": null,
   "id": "8620851e",
   "metadata": {},
   "outputs": [],
   "source": [
    "# \"setdefault()\" inserts into a dictionary only if the given key isn't present\n",
    "filled_dict.setdefault(\"five\", 5)  # filled_dict[\"five\"] is set to 5\n",
    "filled_dict.setdefault(\"five\", 6)  # filled_dict[\"five\"] is still 5"
   ]
  },
  {
   "cell_type": "code",
   "execution_count": null,
   "id": "adca3e7b",
   "metadata": {},
   "outputs": [],
   "source": [
    "# Adding to a dictionary\n",
    "filled_dict.update({\"four\":4})  # => {\"one\": 1, \"two\": 2, \"three\": 3, \"four\": 4}\n",
    "filled_dict[\"four\"] = 4         # another way to add to dict"
   ]
  },
  {
   "cell_type": "code",
   "execution_count": null,
   "id": "78fceb5e",
   "metadata": {},
   "outputs": [],
   "source": [
    "# Remove keys from a dictionary with del\n",
    "del filled_dict[\"one\"]  # Removes the key \"one\" from filled dict"
   ]
  },
  {
   "cell_type": "code",
   "execution_count": null,
   "id": "834fbda0",
   "metadata": {},
   "outputs": [],
   "source": [
    "# From Python 3.5 you can also use the additional unpacking options\n",
    "{'a': 1, **{'b': 2}}  # => {'a': 1, 'b': 2}\n",
    "{'a': 1, **{'a': 2}}  # => {'a': 2}"
   ]
  },
  {
   "cell_type": "code",
   "execution_count": null,
   "id": "36200d43",
   "metadata": {},
   "outputs": [],
   "source": [
    "# Set\n",
    "empty_set = set()\n",
    "print(empty_set)"
   ]
  },
  {
   "cell_type": "code",
   "execution_count": null,
   "id": "10e773c8",
   "metadata": {},
   "outputs": [],
   "source": [
    "some_set = {1, 1, 2, 2, 3, 4}\n",
    "print(some_set)"
   ]
  },
  {
   "cell_type": "code",
   "execution_count": null,
   "id": "eb99df54",
   "metadata": {},
   "outputs": [],
   "source": [
    "# Similar to keys of a dictionary, elements of a set have to be immutable.\n",
    "#invalid_set = {[1], 1}  # => Raises a TypeError: unhashable type: 'list'\n",
    "valid_set = {(1,), 1}"
   ]
  },
  {
   "cell_type": "code",
   "execution_count": null,
   "id": "6e2f653e",
   "metadata": {},
   "outputs": [],
   "source": [
    "# Add one more item to the set\n",
    "filled_set = some_set\n",
    "filled_set.add(5)  # filled_set is now {1, 2, 3, 4, 5}\n",
    "# Sets do not have duplicate elements\n",
    "filled_set.add(5)  # it remains as before {1, 2, 3, 4, 5}\n",
    "\n",
    "print(filled_set)"
   ]
  },
  {
   "cell_type": "code",
   "execution_count": null,
   "id": "5669fa28",
   "metadata": {},
   "outputs": [],
   "source": [
    "# Do set intersection with &\n",
    "other_set = {3, 4, 5, 6}\n",
    "\n",
    "print(filled_set & other_set)  # => {3, 4, 5}"
   ]
  },
  {
   "cell_type": "code",
   "execution_count": null,
   "id": "b78d3871",
   "metadata": {},
   "outputs": [],
   "source": [
    "# Do set union with |\n",
    "print(filled_set | other_set)  # => {1, 2, 3, 4, 5, 6}"
   ]
  },
  {
   "cell_type": "code",
   "execution_count": null,
   "id": "e533eba7",
   "metadata": {},
   "outputs": [],
   "source": [
    "# Do set difference with -\n",
    "print({1, 2, 3, 4} - {2, 3, 5})  # => {1, 4}"
   ]
  },
  {
   "cell_type": "code",
   "execution_count": null,
   "id": "7fa6b0cd",
   "metadata": {},
   "outputs": [],
   "source": [
    "# Do set symmetric difference with ^\n",
    "print({1, 2, 3, 4} ^ {2, 3, 5})  # => {1, 4, 5}"
   ]
  },
  {
   "cell_type": "code",
   "execution_count": null,
   "id": "9943dc1e",
   "metadata": {},
   "outputs": [],
   "source": [
    "# Check if set on the left is a superset of set on the right\n",
    "print({1, 2} >= {1, 2, 3}) # => False"
   ]
  },
  {
   "cell_type": "code",
   "execution_count": null,
   "id": "dfaf7c74",
   "metadata": {},
   "outputs": [],
   "source": [
    "# Check if set on the left is a subset of set on the right\n",
    "{1, 2} <= {1, 2, 3} # => True"
   ]
  },
  {
   "cell_type": "code",
   "execution_count": null,
   "id": "bc356cfb",
   "metadata": {},
   "outputs": [],
   "source": [
    "# Check for existence in a set with in\n",
    "print(2 in filled_set)   # => True\n",
    "\n",
    "print(10 in filled_set)  # => False"
   ]
  },
  {
   "cell_type": "code",
   "execution_count": null,
   "id": "d9da2e1f",
   "metadata": {
    "tags": []
   },
   "outputs": [],
   "source": [
    "# Make a one layer deep copy\n",
    "filled_set = some_set.copy()  # filled_set is {1, 2, 3, 4, 5}\n",
    "print(filled_set)\n",
    "\n",
    "filled_set is some_set        # => False"
   ]
  },
  {
   "cell_type": "markdown",
   "id": "3489b9bc-7504-4949-9f52-eacd6c5d0d59",
   "metadata": {
    "deletable": false,
    "editable": false,
    "nbgrader": {
     "cell_type": "markdown",
     "checksum": "30d4e79e61b5bfe71f0dad6b69eeb80c",
     "grade": false,
     "grade_id": "cell-106a5189b1bb6cc6",
     "locked": true,
     "schema_version": 3,
     "solution": false,
     "task": false
    },
    "tags": []
   },
   "source": [
    "**Task 2** \n",
    "- Task 2.1: Create a list of your 5 favorite foods in list named `favorite_foods`\n",
    "- Task 2.2: Add one more food to the end\n",
    "- Task 2.3: Remove the second food in the list\n",
    "- Task 2.4: Print the first and last food using indexing"
   ]
  },
  {
   "cell_type": "code",
   "execution_count": null,
   "id": "df319d52-bd60-4d32-970e-a9f1232fddb6",
   "metadata": {
    "deletable": false,
    "nbgrader": {
     "cell_type": "code",
     "checksum": "54b591917bc19cb884c4391f3030e9c7",
     "grade": true,
     "grade_id": "cell-e87f0ea79c325576",
     "locked": false,
     "points": 1,
     "schema_version": 3,
     "solution": true,
     "task": false
    },
    "tags": []
   },
   "outputs": [],
   "source": [
    "favorite_foods = []\n",
    "# YOUR CODE HERE\n",
    "favorite_foods = [\"phở\", \"gà rán\", \"mì cay\", \"khổ qua hầm\", \"sủi cảo\"]\n",
    "favorite_foods.append(\"cơm tấm\")\n",
    "del favorite_foods[1]\n",
    "print(favorite_foods[0])\n",
    "print(favorite_foods[-1])"
   ]
  },
  {
   "cell_type": "markdown",
   "id": "adbfeffb-e0a1-4b46-a9ad-8db1628280dc",
   "metadata": {
    "deletable": false,
    "editable": false,
    "nbgrader": {
     "cell_type": "markdown",
     "checksum": "eaa8c9ba694a503c0f4ba828e9044c61",
     "grade": false,
     "grade_id": "cell-3e58ffdace37f1bb",
     "locked": true,
     "schema_version": 3,
     "solution": false,
     "task": false
    },
    "tags": []
   },
   "source": [
    "- Task 2.5: Create a dictionary representing a student with keys: 'name', 'id', 'major', 'gpa'\n",
    "- Task 2.6: Add a new key 'year' with value 'Sophomore'\n",
    "- Task 2.7: Print all keys and values using a loop"
   ]
  },
  {
   "cell_type": "code",
   "execution_count": null,
   "id": "cf6203c0-2229-4b00-b82c-6758d6ef347d",
   "metadata": {
    "deletable": false,
    "nbgrader": {
     "cell_type": "code",
     "checksum": "6ce715393cf112b6936d48a13862c619",
     "grade": true,
     "grade_id": "cell-e042f75daac66b24",
     "locked": false,
     "points": 1,
     "schema_version": 3,
     "solution": true,
     "task": false
    },
    "tags": []
   },
   "outputs": [],
   "source": [
    "# YOUR CODE HERE\n",
    "student_dict = {\"name\": \"Nguyễn Văn A\", \"id\": 23120172, \"major\": \"Computer Science\", \"gpa\": 3.6}\n",
    "student_dict[\"year\"] = \"Sophomore\"\n",
    "for key, value in student_dict.items():\n",
    "    print(key, \":\", value)"
   ]
  },
  {
   "cell_type": "markdown",
   "id": "ac6b84df-ae90-4787-8c12-5fb458f84b85",
   "metadata": {},
   "source": [
    "TODO 2.8: Explain why {1, 1, 2, 2, 3, 4} becomes {1, 2, 3, 4}"
   ]
  },
  {
   "cell_type": "markdown",
   "id": "cc1f7845-ca4b-4c38-907c-258dca0ba015",
   "metadata": {
    "deletable": false,
    "nbgrader": {
     "cell_type": "markdown",
     "checksum": "41d42b3facf528e5dec89f3b818633ca",
     "grade": true,
     "grade_id": "cell-16ec507c5c349c58",
     "locked": false,
     "points": 1,
     "schema_version": 3,
     "solution": true,
     "task": false
    },
    "tags": []
   },
   "source": [
    "YOUR ANSWER HERE\n",
    "\n",
    "Vì có dấu `{}` nên đây là một `set` chứa các số nguyên dương chứ không phải một list. Trong Python, `set` không cho phép có phần tử trùng lặp (ngược lại với list), nếu có phần tử trùng lặp nó sẽ tự loại bỏ. Do đó, {1, 1, 2, 2, 3, 4} sẽ trở thành {1, 2, 3, 4}."
   ]
  },
  {
   "cell_type": "markdown",
   "id": "39a9ade9-f562-46ba-a896-96d5efbcdb39",
   "metadata": {
    "deletable": false,
    "editable": false,
    "nbgrader": {
     "cell_type": "markdown",
     "checksum": "244e014daf1164ecdd45b8806ddd52d2",
     "grade": false,
     "grade_id": "cell-2fa2df54ec7975c4",
     "locked": true,
     "schema_version": 3,
     "solution": false,
     "task": false
    },
    "tags": []
   },
   "source": [
    "Task 2.9: Given two sets of courses, find:\n",
    "\n",
    "```python\n",
    "courses_fall = {'Math', 'Physics', 'CS', 'English'}\n",
    "courses_spring = {'Physics', 'Chemistry', 'CS', 'Art'}\n",
    "```\n",
    "\n",
    "a) Courses taken in both semesters (intersection)\n",
    "```python\n",
    "both_semesters = None  # Fill this in\n",
    "```\n",
    "\n",
    "b) All unique courses taken (union)\n",
    "```python\n",
    "all_courses = None  # Fill this in\n",
    "```\n",
    "\n",
    "c) Courses only in fall (difference)\n",
    "```python\n",
    "only_fall = None  # Fill this in\n",
    "```"
   ]
  },
  {
   "cell_type": "code",
   "execution_count": null,
   "id": "5c9b49d9-f9f3-4188-89f5-38ce68296a03",
   "metadata": {
    "deletable": false,
    "nbgrader": {
     "cell_type": "code",
     "checksum": "977dc25906d00ae9e4af864bc6eb5648",
     "grade": true,
     "grade_id": "cell-8144b4cfdbfb832b",
     "locked": false,
     "points": 1,
     "schema_version": 3,
     "solution": true,
     "task": false
    },
    "tags": []
   },
   "outputs": [],
   "source": [
    "# YOUR CODE HERE\n",
    "courses_fall = {'Math', 'Physics', 'CS', 'English'}\n",
    "courses_spring = {'Physics', 'Chemistry', 'CS', 'Art'}\n",
    "\n",
    "# a) Courses taken in both semesters (intersection)\n",
    "both_semesters = print(courses_fall & courses_spring)\n",
    "\n",
    "# b) All unique courses taken (union)\n",
    "all_courses = print(courses_fall | courses_spring)\n",
    "\n",
    "# c) Courses only in fall (difference)\n",
    "only_fall = print(courses_fall - courses_spring)"
   ]
  },
  {
   "cell_type": "markdown",
   "id": "d62e0c43",
   "metadata": {},
   "source": [
    "## Control Flow and Iterables"
   ]
  },
  {
   "cell_type": "code",
   "execution_count": null,
   "id": "92beb8e2",
   "metadata": {},
   "outputs": [],
   "source": [
    "if some_var > 10:\n",
    "    print(\"some_var is totally bigger than 10.\")\n",
    "elif some_var < 10:    # This elif clause is optional.\n",
    "    print(\"some_var is smaller than 10.\")\n",
    "else:                  # This is optional too.\n",
    "    print(\"some_var is indeed 10.\")\n"
   ]
  },
  {
   "cell_type": "code",
   "execution_count": null,
   "id": "7b9f5d23",
   "metadata": {},
   "outputs": [],
   "source": [
    "\"\"\"\n",
    "For loops iterate over lists\n",
    "prints:\n",
    "    dog is a mammal\n",
    "    cat is a mammal\n",
    "    mouse is a mammal\n",
    "\"\"\"\n",
    "for animal in [\"dog\", \"cat\", \"mouse\"]:\n",
    "    # You can use format() to interpolate formatted strings\n",
    "    print(\"{} is a mammal\".format(animal))\n"
   ]
  },
  {
   "cell_type": "code",
   "execution_count": null,
   "id": "a6f72d0b",
   "metadata": {},
   "outputs": [],
   "source": [
    "\"\"\"\n",
    "\"range(number)\" returns an iterable of numbers\n",
    "from zero to the given number\n",
    "prints:\n",
    "    0\n",
    "    1\n",
    "    2\n",
    "    3\n",
    "\"\"\"\n",
    "for i in range(4):\n",
    "    print(i)\n"
   ]
  },
  {
   "cell_type": "code",
   "execution_count": null,
   "id": "a4cb67fe",
   "metadata": {},
   "outputs": [],
   "source": [
    "\"\"\"\n",
    "\"range(lower, upper)\" returns an iterable of numbers\n",
    "from the lower number to the upper number\n",
    "prints:\n",
    "    4\n",
    "    5\n",
    "    6\n",
    "    7\n",
    "\"\"\"\n",
    "for i in range(4, 8):\n",
    "    print(i)\n"
   ]
  },
  {
   "cell_type": "code",
   "execution_count": null,
   "id": "b7d2b983",
   "metadata": {},
   "outputs": [],
   "source": [
    "\"\"\"\n",
    "\"range(lower, upper, step)\" returns an iterable of numbers\n",
    "from the lower number to the upper number, while incrementing\n",
    "by step. If step is not indicated, the default value is 1.\n",
    "prints:\n",
    "    4\n",
    "    6\n",
    "\"\"\"\n",
    "for i in range(4, 8, 2):\n",
    "    print(i)\n"
   ]
  },
  {
   "cell_type": "code",
   "execution_count": null,
   "id": "fe671f76",
   "metadata": {},
   "outputs": [],
   "source": [
    "\"\"\"\n",
    "To loop over a list, and retrieve both the index and the value of each item in the list\n",
    "prints:\n",
    "    0 dog\n",
    "    1 cat\n",
    "    2 mouse\n",
    "\"\"\"\n",
    "animals = [\"dog\", \"cat\", \"mouse\"]\n",
    "for i, value in enumerate(animals):\n",
    "    print(i, value)\n"
   ]
  },
  {
   "cell_type": "code",
   "execution_count": null,
   "id": "5dac4d16",
   "metadata": {},
   "outputs": [],
   "source": [
    "\"\"\"\n",
    "While loops go until a condition is no longer met.\n",
    "prints:\n",
    "    0\n",
    "    1\n",
    "    2\n",
    "    3\n",
    "\"\"\"\n",
    "x = 0\n",
    "while x < 4:\n",
    "    print(x)\n",
    "    x += 1  # Shorthand for x = x + 1\n"
   ]
  },
  {
   "cell_type": "code",
   "execution_count": null,
   "id": "8c9ede0e",
   "metadata": {},
   "outputs": [],
   "source": [
    "# Handle exceptions with a try/except block\n",
    "try:\n",
    "    # Use \"raise\" to raise an error\n",
    "    raise IndexError(\"This is an index error\")\n",
    "except IndexError as e:\n",
    "    # Pass is just a no-op. Usually you would do recovery here.\n",
    "    pass\n",
    "except (TypeError, NameError):\n",
    "    # Multiple exceptions can be handled together, if required.\n",
    "    pass\n",
    "else:                    # Optional clause to the try/except block. Must follow all except blocks\n",
    "    print(\"All good!\")   # Runs only if the code in try raises no exceptions\n",
    "finally:                 # Execute under all circumstances\n",
    "    print(\"We can clean up resources here\")\n"
   ]
  },
  {
   "cell_type": "code",
   "execution_count": null,
   "id": "dfb5a6f8",
   "metadata": {},
   "outputs": [],
   "source": [
    "# Writing to a file\n",
    "contents = {\"aa\": 12, \"bb\": 21}\n",
    "with open(\"myfile1.txt\", \"w+\") as file:\n",
    "    file.write(str(contents))        # writes a string to a file"
   ]
  },
  {
   "cell_type": "code",
   "execution_count": null,
   "id": "d5ac1738",
   "metadata": {},
   "outputs": [],
   "source": [
    "# Import some module, we can use import keyword to import module that we need\n",
    "import json\n",
    "\n",
    "with open(\"myfile2.txt\", \"w+\") as file:\n",
    "    file.write(json.dumps(contents)) # writes an object to a file"
   ]
  },
  {
   "cell_type": "code",
   "execution_count": null,
   "id": "955565c9",
   "metadata": {},
   "outputs": [],
   "source": [
    "\n",
    "# Reading from a file\n",
    "with open('myfile1.txt', \"r+\") as file:\n",
    "    contents = file.read()           # reads a string from a file\n",
    "print(contents)"
   ]
  },
  {
   "cell_type": "code",
   "execution_count": null,
   "id": "fcdadc83",
   "metadata": {},
   "outputs": [],
   "source": [
    "with open('myfile2.txt', \"r+\") as file:\n",
    "    contents = json.load(file)       # reads a json object from a file\n",
    "print(contents)\n",
    "# print: {\"aa\": 12, \"bb\": 21}"
   ]
  },
  {
   "cell_type": "code",
   "execution_count": null,
   "id": "53ba4555",
   "metadata": {},
   "outputs": [],
   "source": [
    "# Python offers a fundamental abstraction called the Iterable.\n",
    "# An iterable is an object that can be treated as a sequence.\n",
    "# The object returned by the range function, is an iterable.\n",
    "filled_dict = {\"one\": 1, \"two\": 2, \"three\": 3}\n",
    "our_iterable = filled_dict.keys()\n",
    "print(our_iterable)  # => dict_keys(['one', 'two', 'three']). This is an object that implements our Iterable interface."
   ]
  },
  {
   "cell_type": "code",
   "execution_count": null,
   "id": "82f6ab83",
   "metadata": {},
   "outputs": [],
   "source": [
    "# We can loop over it.\n",
    "for i in our_iterable:\n",
    "    print(i)  # Prints one, two, three"
   ]
  },
  {
   "cell_type": "code",
   "execution_count": null,
   "id": "7309a9cc",
   "metadata": {},
   "outputs": [],
   "source": [
    "# However we cannot address elements by index.\n",
    "#our_iterable[1]  # Raises a TypeError"
   ]
  },
  {
   "cell_type": "code",
   "execution_count": null,
   "id": "86fb2389",
   "metadata": {},
   "outputs": [],
   "source": [
    "# An iterable is an object that knows how to create an iterator.\n",
    "our_iterator = iter(our_iterable)"
   ]
  },
  {
   "cell_type": "code",
   "execution_count": null,
   "id": "7ca84373",
   "metadata": {},
   "outputs": [],
   "source": [
    "# Our iterator is an object that can remember the state as we traverse through it.\n",
    "# We get the next object with \"next()\".\n",
    "next(our_iterator)  # => \"one\""
   ]
  },
  {
   "cell_type": "code",
   "execution_count": null,
   "id": "a0858955",
   "metadata": {},
   "outputs": [],
   "source": [
    "# It maintains state as we iterate.\n",
    "next(our_iterator)  # => \"two\""
   ]
  },
  {
   "cell_type": "code",
   "execution_count": null,
   "id": "e452b28c",
   "metadata": {},
   "outputs": [],
   "source": [
    "next(our_iterator)  # => \"three\""
   ]
  },
  {
   "cell_type": "code",
   "execution_count": null,
   "id": "fe79dc40",
   "metadata": {},
   "outputs": [],
   "source": [
    "# After the iterator has returned all of its data, it raises a StopIteration exception\n",
    "#next(our_iterator)  # Raises StopIteration"
   ]
  },
  {
   "cell_type": "code",
   "execution_count": null,
   "id": "4b91e47f",
   "metadata": {},
   "outputs": [],
   "source": [
    "# We can also loop over it, in fact, \"for\" does this implicitly!\n",
    "our_iterator = iter(our_iterable)\n",
    "for i in our_iterator:\n",
    "    print(i)  # Prints one, two, three"
   ]
  },
  {
   "cell_type": "code",
   "execution_count": null,
   "id": "ea12d963",
   "metadata": {},
   "outputs": [],
   "source": [
    "# You can grab all the elements of an iterable or iterator by calling list() on it.\n",
    "list(our_iterable)  # => Returns [\"one\", \"two\", \"three\"]"
   ]
  },
  {
   "cell_type": "code",
   "execution_count": null,
   "id": "c601b8de",
   "metadata": {},
   "outputs": [],
   "source": [
    "list(our_iterator)  # => Returns [] because state is saved"
   ]
  },
  {
   "cell_type": "markdown",
   "id": "f5101611-d3cf-4c00-90fd-06d48490e209",
   "metadata": {
    "deletable": false,
    "editable": false,
    "nbgrader": {
     "cell_type": "markdown",
     "checksum": "069956ec51522d18ed12e41287e7d064",
     "grade": false,
     "grade_id": "cell-48852fcdb25d1aa4",
     "locked": true,
     "schema_version": 3,
     "solution": false,
     "task": false
    },
    "tags": []
   },
   "source": [
    "Task 3.10: Implement FizzBuzz for numbers 1-30\n",
    "- Print \"Fizz\" for multiples of 3\n",
    "- Print \"Buzz\" for multiples of 5\n",
    "- Print \"FizzBuzz\" for multiples of both\n",
    "- Otherwise print the number"
   ]
  },
  {
   "cell_type": "code",
   "execution_count": null,
   "id": "04bfbc2a-ebd0-4b1b-adda-12511430870e",
   "metadata": {
    "deletable": false,
    "nbgrader": {
     "cell_type": "code",
     "checksum": "ad12e2bc7cc77d811767ee2c267f71b2",
     "grade": true,
     "grade_id": "cell-05d404cbd802a7da",
     "locked": false,
     "points": 1,
     "schema_version": 3,
     "solution": true,
     "task": false
    },
    "tags": []
   },
   "outputs": [],
   "source": [
    "def fizzbuzz(n):\n",
    "    \"\"\"\n",
    "    Implement FizzBuzz logic here\n",
    "    \"\"\"\n",
    "    # YOUR CODE HERE\n",
    "    if n%3 == 0 and n%5 == 0:\n",
    "        print(\"FizzBuzz\")\n",
    "    elif n%5 == 0:\n",
    "        print(\"Buzz\")\n",
    "    elif n%3 == 0:\n",
    "        print(\"Fizz\")\n",
    "    else:\n",
    "        print(n)\n",
    "\n",
    "# Test your function\n",
    "for i in range(1, 31):\n",
    "    fizzbuzz(i)\n"
   ]
  },
  {
   "cell_type": "markdown",
   "id": "899eabfc-aeb8-4dc3-ba11-c6006171f589",
   "metadata": {
    "deletable": false,
    "editable": false,
    "nbgrader": {
     "cell_type": "markdown",
     "checksum": "2cf586b80b10f7625bb82d7f1a09377f",
     "grade": false,
     "grade_id": "cell-ec621ecf274fe7a4",
     "locked": true,
     "schema_version": 3,
     "solution": false,
     "task": false
    },
    "tags": []
   },
   "source": [
    "Task 3.11: Use list comprehension to create a list of squares of even numbers from 0 to 20\n",
    "```python\n",
    "even_squares = []  # Replace with list comprehension\n",
    "```"
   ]
  },
  {
   "cell_type": "code",
   "execution_count": null,
   "id": "1085f204-d6fd-4e1d-8099-37a37bb1b4e9",
   "metadata": {
    "deletable": false,
    "nbgrader": {
     "cell_type": "code",
     "checksum": "a43b7d43c411d475890766db4ff73909",
     "grade": true,
     "grade_id": "cell-583a2227590265ef",
     "locked": false,
     "points": 1,
     "schema_version": 3,
     "solution": true,
     "task": false
    },
    "tags": []
   },
   "outputs": [],
   "source": [
    "# YOUR CODE HERE\n",
    "even_squares = []\n",
    "for i in range(0, 21):\n",
    "    if i%2 == 0:\n",
    "        even_squares.append(i*i)\n",
    "print(even_squares)"
   ]
  },
  {
   "cell_type": "markdown",
   "id": "da004516-fe68-4b11-9953-074067e7c556",
   "metadata": {
    "deletable": false,
    "editable": false,
    "nbgrader": {
     "cell_type": "markdown",
     "checksum": "b310cbe61ad5afd52a7e82b8bb44e7ce",
     "grade": false,
     "grade_id": "cell-4377eca5e6df25ad",
     "locked": true,
     "schema_version": 3,
     "solution": false,
     "task": false
    },
    "tags": []
   },
   "source": [
    "Task 3.12: Use dictionary comprehension to create a dictionary where keys are numbers 1-10 and values are their cubes\n",
    "```python\n",
    "cubes_dict = {}  # Replace with dict comprehension\n",
    "```"
   ]
  },
  {
   "cell_type": "code",
   "execution_count": null,
   "id": "ea1cee4f-dae0-42ee-bcb4-c4d5676d2aa4",
   "metadata": {
    "deletable": false,
    "nbgrader": {
     "cell_type": "code",
     "checksum": "d52eba0309626e547d5af4be76b0b1bc",
     "grade": true,
     "grade_id": "cell-5c92a4d4d09bfb2c",
     "locked": false,
     "points": 1,
     "schema_version": 3,
     "solution": true,
     "task": false
    },
    "tags": []
   },
   "outputs": [],
   "source": [
    "# YOUR CODE HERE\n",
    "cubes_dict = {}\n",
    "for i in range(1,11):\n",
    "    cubes_dict[i] = i**3\n",
    "print(cubes_dict)"
   ]
  },
  {
   "cell_type": "markdown",
   "id": "3e825d25",
   "metadata": {},
   "source": [
    "## Functions"
   ]
  },
  {
   "cell_type": "code",
   "execution_count": null,
   "id": "b90b6cef",
   "metadata": {},
   "outputs": [],
   "source": [
    "# Use \"def\" to create new functions\n",
    "def add(x, y):\n",
    "    print(\"x is {} and y is {}\".format(x, y))\n",
    "    return x + y  # Return values with a return statement"
   ]
  },
  {
   "cell_type": "code",
   "execution_count": null,
   "id": "6d2ae856",
   "metadata": {},
   "outputs": [],
   "source": [
    "# Calling functions with parameters\n",
    "add(5, 6)  # => prints out \"x is 5 and y is 6\" and returns 11"
   ]
  },
  {
   "cell_type": "code",
   "execution_count": null,
   "id": "9e389fff",
   "metadata": {},
   "outputs": [],
   "source": [
    "# Another way to call functions is with keyword arguments\n",
    "add(y=6, x=5)  # Keyword arguments can arrive in any order."
   ]
  },
  {
   "cell_type": "code",
   "execution_count": null,
   "id": "6fdedd95",
   "metadata": {},
   "outputs": [],
   "source": [
    "# You can define functions that take a variable number of\n",
    "# positional arguments\n",
    "def varargs(*args):\n",
    "    return args\n",
    "\n",
    "varargs(1, 2, 3)"
   ]
  },
  {
   "cell_type": "code",
   "execution_count": null,
   "id": "51e83f68",
   "metadata": {},
   "outputs": [],
   "source": [
    "# You can define functions that take a variable number of\n",
    "# keyword arguments, as well\n",
    "def keyword_args(**kwargs):\n",
    "    return kwargs\n",
    "\n",
    "# Let's call it to see what happens\n",
    "keyword_args(big=\"foot\", loch=\"ness\")  # => {\"big\": \"foot\", \"loch\": \"ness\"}"
   ]
  },
  {
   "cell_type": "code",
   "execution_count": null,
   "id": "56286095",
   "metadata": {},
   "outputs": [],
   "source": [
    "# You can do both at once, if you like\n",
    "def all_the_args(*args, **kwargs):\n",
    "    print(args)\n",
    "    print(kwargs)\n",
    "    \n",
    "args = (1, 2, 3, 4)\n",
    "kwargs = {\"a\": 3, \"b\": 4}\n",
    "all_the_args(*args)            # equivalent to all_the_args(1, 2, 3, 4)\n",
    "all_the_args(**kwargs)         # equivalent to all_the_args(a=3, b=4)\n",
    "all_the_args(*args, **kwargs)  # equivalent to all_the_args(1, 2, 3, 4, a=3, b=4)"
   ]
  },
  {
   "cell_type": "code",
   "execution_count": null,
   "id": "59957664",
   "metadata": {},
   "outputs": [],
   "source": [
    "# Function Scope\n",
    "x = 5\n",
    "\n",
    "def set_x(num):\n",
    "    # Local var x not the same as global variable x\n",
    "    x = num    # => 43\n",
    "    print(x)   # => 43\n",
    "\n",
    "def set_global_x(num):\n",
    "    global x\n",
    "    print(x)   # => 5\n",
    "    x = num    # global var x is now set to 6\n",
    "    print(x)   # => 6\n",
    "\n",
    "set_x(43)\n",
    "set_global_x(6)\n"
   ]
  },
  {
   "cell_type": "code",
   "execution_count": null,
   "id": "aef8a535",
   "metadata": {},
   "outputs": [],
   "source": [
    "# Python has first class functions\n",
    "def create_adder(x):\n",
    "    def adder(y):\n",
    "        return x + y\n",
    "    return adder\n",
    "\n",
    "add_10 = create_adder(10)\n",
    "add_10(3)   # => 13"
   ]
  },
  {
   "cell_type": "code",
   "execution_count": null,
   "id": "2cb9cf0d",
   "metadata": {},
   "outputs": [],
   "source": [
    "# There are also anonymous functions\n",
    "print((lambda x: x > 2)(3))                  # => True\n",
    "print((lambda x, y: x ** 2 + y ** 2)(2, 1))  # => 5"
   ]
  },
  {
   "cell_type": "code",
   "execution_count": null,
   "id": "0e1692f1",
   "metadata": {},
   "outputs": [],
   "source": [
    "f_x = lambda x : x**2 - 3 * x + 2\n",
    "f_x(1)"
   ]
  },
  {
   "cell_type": "code",
   "execution_count": null,
   "id": "de25e3dc",
   "metadata": {},
   "outputs": [],
   "source": [
    "# There are built-in higher order functions\n",
    "print(list(map(add_10, [1, 2, 3])))         # => [11, 12, 13]\n",
    "print(list(map(max, [1, 2, 3], [4, 2, 1])))  # => [4, 2, 3]\n",
    "\n",
    "print(list(filter(lambda x: x > 5, [3, 4, 5, 6, 7])))  # => [6, 7]"
   ]
  },
  {
   "cell_type": "code",
   "execution_count": null,
   "id": "dc146d5d",
   "metadata": {},
   "outputs": [],
   "source": [
    "# We can use list comprehensions for nice maps and filters\n",
    "# List comprehension stores the output as a list which can itself be a nested list\n",
    "print([add_10(i) for i in [1, 2, 3]])         # => [11, 12, 13]\n",
    "print([x for x in [3, 4, 5, 6, 7] if x > 5])  # => [6, 7]\n",
    "\n",
    "# You can construct set and dict comprehensions as well.\n",
    "print({x for x in 'abcddeef' if x not in 'abc'})  # => {'d', 'e', 'f'}\n",
    "print({x: x**2 for x in range(5)})  # => {0: 0, 1: 1, 2: 4, 3: 9, 4: 16}"
   ]
  },
  {
   "cell_type": "code",
   "execution_count": null,
   "id": "c7b9093c",
   "metadata": {},
   "outputs": [],
   "source": [
    "# Generators help you make lazy code.\n",
    "def double_numbers(iterable):\n",
    "    for i in iterable:\n",
    "        yield i + i\n",
    "        \n",
    "# Generators are memory-efficient because they only load the data needed to\n",
    "# process the next value in the iterable. This allows them to perform\n",
    "# operations on otherwise prohibitively large value ranges.\n",
    "# NOTE: `range` replaces `xrange` in Python 3.\n",
    "for i in double_numbers(range(1, 900000000)):  # `range` is a generator.\n",
    "    print(i)\n",
    "    if i >= 30:\n",
    "        break"
   ]
  },
  {
   "cell_type": "code",
   "execution_count": null,
   "id": "455d2ffa",
   "metadata": {},
   "outputs": [],
   "source": [
    "# Just as you can create a list comprehension, you can create generator\n",
    "# comprehensions as well.\n",
    "values = (-x for x in [1,2,3,4,5])\n",
    "for x in values:\n",
    "    print(x)  # prints -1 -2 -3 -4 -5 to console/terminal"
   ]
  },
  {
   "cell_type": "code",
   "execution_count": null,
   "id": "1d5b21ce",
   "metadata": {},
   "outputs": [],
   "source": [
    "# You can also cast a generator comprehension directly to a list.\n",
    "values = (-x for x in [1,2,3,4,5])\n",
    "gen_to_list = list(values)\n",
    "print(gen_to_list)  # => [-1, -2, -3, -4, -5]"
   ]
  },
  {
   "cell_type": "code",
   "execution_count": null,
   "id": "c05c613e",
   "metadata": {},
   "outputs": [],
   "source": [
    "# Decorators\n",
    "# In this example `beg` wraps `say`. If say_please is True then it\n",
    "# will change the returned message.\n",
    "from functools import wraps\n",
    "\n",
    "\n",
    "def beg(target_function):\n",
    "    @wraps(target_function)\n",
    "    def wrapper(*args, **kwargs):\n",
    "        msg, say_please = target_function(*args, **kwargs)\n",
    "        if say_please:\n",
    "            return \"{} {}\".format(msg, \"Please! I am poor :(\")\n",
    "        return msg\n",
    "\n",
    "    return wrapper\n",
    "\n",
    "\n",
    "@beg\n",
    "def say(say_please=False):\n",
    "    msg = \"Can you buy me a beer?\"\n",
    "    return msg, say_please\n",
    "\n",
    "\n",
    "print(say())                 # Can you buy me a beer?\n",
    "print(say(say_please=True))  # Can you buy me a beer? Please! I am poor :("
   ]
  },
  {
   "cell_type": "markdown",
   "id": "5788fb23-75f6-4e5f-9c36-0943f46f4133",
   "metadata": {
    "deletable": false,
    "editable": false,
    "nbgrader": {
     "cell_type": "markdown",
     "checksum": "53db063fa8495136437a2827ec452d69",
     "grade": false,
     "grade_id": "cell-36aed7b3db2f0caa",
     "locked": true,
     "schema_version": 3,
     "solution": false,
     "task": false
    },
    "tags": []
   },
   "source": [
    "Task 4.13: Define a lambda function to calculate $f(x) = ax^3 + bx^2 + cx + d$"
   ]
  },
  {
   "cell_type": "code",
   "execution_count": null,
   "id": "9d0a96e3-eba7-462c-bb0b-b3a1b592bf2f",
   "metadata": {
    "deletable": false,
    "nbgrader": {
     "cell_type": "code",
     "checksum": "179a4c169a5f629a06419fc280f2cc41",
     "grade": true,
     "grade_id": "cell-80c2ae72feb75468",
     "locked": false,
     "points": 1,
     "schema_version": 3,
     "solution": true,
     "task": false
    },
    "tags": []
   },
   "outputs": [],
   "source": [
    "# Choose your own values for a, b, c, d\n",
    "a, b, c, d = 1, 0, 0, 0  # Change these values\n",
    "# YOUR CODE HERE\n",
    "def polynomial(x):\n",
    "    return (a * (x ** 3)) + (b * (x ** 2)) + (c * x) + d\n",
    "\n",
    "# Test your polynomial\n",
    "print(f\"f(0) = {polynomial(0)}\")\n",
    "print(f\"f(1) = {polynomial(1)}\")\n",
    "print(f\"f(-1) = {polynomial(-1)}\")"
   ]
  },
  {
   "cell_type": "markdown",
   "id": "611150d8-6eec-48d3-a122-97a587cb1ad2",
   "metadata": {
    "deletable": false,
    "editable": false,
    "nbgrader": {
     "cell_type": "markdown",
     "checksum": "c624bc03e32f20e156546e5111e4ee4f",
     "grade": false,
     "grade_id": "cell-657d0f61b2033724",
     "locked": true,
     "schema_version": 3,
     "solution": false,
     "task": false
    },
    "tags": []
   },
   "source": [
    "Task 4.14: Write a function that takes a function and a list, and applies the function to each element"
   ]
  },
  {
   "cell_type": "code",
   "execution_count": null,
   "id": "f4d4cc27-37f6-4150-a31a-39d520e60de4",
   "metadata": {
    "deletable": false,
    "nbgrader": {
     "cell_type": "code",
     "checksum": "58da94b333548024d1985dfea23f7043",
     "grade": true,
     "grade_id": "cell-e2724263d27dfc79",
     "locked": false,
     "points": 1,
     "schema_version": 3,
     "solution": true,
     "task": false
    },
    "tags": []
   },
   "outputs": [],
   "source": [
    "def apply_to_all(func, lst):\n",
    "    \"\"\"\n",
    "    Apply func to each element in lst and return new list\n",
    "    \"\"\"\n",
    "    # YOUR CODE HERE\n",
    "    result = []\n",
    "    for x in lst:\n",
    "        result.append(func(x))\n",
    "    return result\n",
    "    \n",
    "# Test with your polynomial\n",
    "test_list = [0, 1, 2, 3, 4, 5]\n",
    "result = apply_to_all(polynomial, test_list)\n",
    "print(f\"Applied to {test_list}: {result}\")"
   ]
  },
  {
   "cell_type": "markdown",
   "id": "73da7130-02a1-424a-92cc-74cd3286cc7b",
   "metadata": {
    "deletable": false,
    "editable": false,
    "nbgrader": {
     "cell_type": "markdown",
     "checksum": "c3bebc03f5d85fd562a043d55c5151ae",
     "grade": false,
     "grade_id": "cell-f729c9908b2525f4",
     "locked": true,
     "schema_version": 3,
     "solution": false,
     "task": false
    },
    "tags": []
   },
   "source": [
    "Task 4.15: Write a function that calculates the grade based on a score (0-100)\n",
    "- A: 90-100, \n",
    "- B: 80-89, \n",
    "- C: 70-79, \n",
    "- D: 60-69, \n",
    "- F: 0-59"
   ]
  },
  {
   "cell_type": "code",
   "execution_count": null,
   "id": "18580c60-df15-4a96-b727-2b63c2cff4d3",
   "metadata": {
    "deletable": false,
    "nbgrader": {
     "cell_type": "code",
     "checksum": "bb711292e2b54fe9ce8910ade75d36b6",
     "grade": true,
     "grade_id": "cell-c116668477ec447e",
     "locked": false,
     "points": 1,
     "schema_version": 3,
     "solution": true,
     "task": false
    },
    "tags": []
   },
   "outputs": [],
   "source": [
    "def calculate_grade(score):\n",
    "    \"\"\"\n",
    "    Return letter grade based on numerical score\n",
    "    \"\"\"\n",
    "    # YOUR CODE HERE\n",
    "    if 90 <= score <= 100:\n",
    "        return(\"A\")\n",
    "    elif 80 <= score <= 89:\n",
    "        return(\"B\")\n",
    "    elif 70 <= score <= 79:\n",
    "        return(\"C\")\n",
    "    elif 60 <= score <= 69:\n",
    "        return(\"D\")\n",
    "    elif 0 <= score <= 59:\n",
    "        return(\"F\")\n",
    "    else:\n",
    "        return(\"Điểm không hợp lệ.\")\n",
    "\n",
    "# Test cases\n",
    "print(calculate_grade(95))  # Should print 'A'\n",
    "print(calculate_grade(82))  # Should print 'B'\n",
    "print(calculate_grade(55))  # Should print 'F'"
   ]
  },
  {
   "cell_type": "markdown",
   "id": "22036b99-caf2-4948-983c-f158e99f9a2d",
   "metadata": {},
   "source": [
    "## File Operations"
   ]
  },
  {
   "cell_type": "markdown",
   "id": "b4c2d14d-7ead-408b-83be-0da7880fdd82",
   "metadata": {
    "deletable": false,
    "editable": false,
    "nbgrader": {
     "cell_type": "markdown",
     "checksum": "96e37bed9e759512586cc5dace8b088d",
     "grade": false,
     "grade_id": "cell-96a3a557217da762",
     "locked": true,
     "schema_version": 3,
     "solution": false,
     "task": false
    },
    "tags": []
   },
   "source": [
    "Task 5.16: Create a function that writes student information to a file"
   ]
  },
  {
   "cell_type": "code",
   "execution_count": null,
   "id": "75a5ea7c-6bc4-4bee-82fc-34eb9f5f4282",
   "metadata": {
    "deletable": false,
    "nbgrader": {
     "cell_type": "code",
     "checksum": "d66959b7f08d1fb3b0c64253cdbe0ac1",
     "grade": true,
     "grade_id": "cell-3a3bb364eb78f89d",
     "locked": false,
     "points": 1,
     "schema_version": 3,
     "solution": true,
     "task": false
    },
    "tags": []
   },
   "outputs": [],
   "source": [
    "def save_student_data(filename, student_dict):\n",
    "    \"\"\"\n",
    "    Save student dictionary to a JSON file\n",
    "    \"\"\"\n",
    "    import json\n",
    "    # YOUR CODE HERE\n",
    "    with open(filename, \"w\") as file:\n",
    "        json.dump(student_dict, file, indent=4)"
   ]
  },
  {
   "cell_type": "markdown",
   "id": "9df8e587-6e68-4f9f-aafe-705fd7a1333c",
   "metadata": {
    "deletable": false,
    "editable": false,
    "nbgrader": {
     "cell_type": "markdown",
     "checksum": "dcfbd5ae654a85fd17f7829bd213d7ad",
     "grade": false,
     "grade_id": "cell-4988877ffd928d9c",
     "locked": true,
     "schema_version": 3,
     "solution": false,
     "task": false
    },
    "tags": []
   },
   "source": [
    "Task 5.17: Create a function that reads student information from a file"
   ]
  },
  {
   "cell_type": "code",
   "execution_count": null,
   "id": "0c155170-5bff-4d0d-9eee-80b5025fe425",
   "metadata": {
    "deletable": false,
    "nbgrader": {
     "cell_type": "code",
     "checksum": "6e96152113fd038056fc2adbccaf4efe",
     "grade": true,
     "grade_id": "cell-84c0a4c6ab54e220",
     "locked": false,
     "points": 1,
     "schema_version": 3,
     "solution": true,
     "task": false
    },
    "tags": []
   },
   "outputs": [],
   "source": [
    "def load_student_data(filename):\n",
    "    \"\"\"\n",
    "    Load student dictionary from a JSON file\n",
    "    Returns the dictionary\n",
    "    \"\"\"\n",
    "    import json\n",
    "    # YOUR CODE HERE\n",
    "    with open(filename, \"r\") as file:\n",
    "        student_dict = json.load(file)\n",
    "    return student_dict\n",
    "\n",
    "\n",
    "# Test your functions\n",
    "test_student = {\n",
    "    \"name\": \"John Doe\",\n",
    "    \"id\": \"12345\",\n",
    "    \"major\": \"Computer Science\",\n",
    "    \"gpa\": 3.5\n",
    "}\n",
    "save_student_data(\"test_student.json\", test_student)\n",
    "loaded_student = load_student_data(\"test_student.json\")\n",
    "print(\"Loaded student:\", loaded_student)"
   ]
  },
  {
   "cell_type": "markdown",
   "id": "687504d3",
   "metadata": {
    "deletable": false,
    "editable": false,
    "nbgrader": {
     "cell_type": "markdown",
     "checksum": "0810cd17724d737b057dffc84312618f",
     "grade": false,
     "grade_id": "cell-5a016d33a0c81e7b",
     "locked": true,
     "schema_version": 3,
     "solution": false,
     "task": false
    },
    "tags": []
   },
   "source": [
    "# References\n",
    "\n",
    "[1] [Python. Learn X in Y minutes.](https://learnxinyminutes.com/docs/python/)"
   ]
  }
 ],
 "metadata": {
  "kernelspec": {
   "display_name": ".venv",
   "language": "python",
   "name": "python3"
  },
  "language_info": {
   "codemirror_mode": {
    "name": "ipython",
    "version": 3
   },
   "file_extension": ".py",
   "mimetype": "text/x-python",
   "name": "python",
   "nbconvert_exporter": "python",
   "pygments_lexer": "ipython3",
   "version": "3.13.5"
  }
 },
 "nbformat": 4,
 "nbformat_minor": 5
}
